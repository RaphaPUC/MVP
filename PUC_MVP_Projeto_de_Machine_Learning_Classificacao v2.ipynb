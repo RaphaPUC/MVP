{
  "cells": [
    {
      "cell_type": "markdown",
      "metadata": {
        "id": "view-in-github",
        "colab_type": "text"
      },
      "source": [
        "<a href=\"https://colab.research.google.com/github/RaphaPUC/MVP/blob/main/PUC_MVP_Projeto_de_Machine_Learning_Classificacao%20v2.ipynb\" target=\"_parent\"><img src=\"https://colab.research.google.com/assets/colab-badge.svg\" alt=\"Open In Colab\"/></a>"
      ]
    },
    {
      "cell_type": "markdown",
      "source": [
        "# Descrição do Problema\n",
        "\n",
        "O problema é a dificuldade dos usuários em encontrar filmes e séries que correspondam aos seus gostos individuais nos serviços de streaming, devido à vasta quantidade de opções disponíveis.\n",
        "\n",
        "A hipótese é que os usuários tendem a preferir conteúdo que reflete sentimentos positivos em resenhas e avaliações anteriores.\n",
        "\n",
        "Os dados selecionados devem incluir resenhas de filmes com sentimentos claramente identificáveis e avaliações dos usuários.\n",
        "\n",
        " O dataset consiste em resenhas de filmes do IMDb, incluindo o texto da resenha, a avaliação associada (positiva ou negativa), e o ID do filme.\n",
        "\n",
        "\n",
        "# Preparação de Dados\n",
        "O dataset já está separado em conjuntos de treino e teste, conforme indicado pelo código data.load_data() que retorna (x_train, y_train), (x_test, y_test). Não há menção a um conjunto de validação separado, mas é possível criar um usando uma fração do conjunto de treino, como mostrado no método model.fit() onde validation_split=0.2 reserva 20% dos dados de treino para validação.\n",
        "Operações de transformação de dados incluirão a normalização do texto e vetorização das palavras.\n",
        "A validação cruzada é útil para avaliar modelos, mas pode ser demorada e não é sempre necessária.\n",
        "No caso de Análise de Sentimento, a validação cruzada pode não ser necessária por conta do conjunto de dados do IMDB ser grande, então temos muitos dados para treinar. E o modelo já usa uma parte dos dados de treino para validação durante o treinamento. Então a validação cruzada seria demorada devido ao tamanho do conjunto de dados.\n",
        "A seleção de atributos se concentrará em palavras-chave e sentimentos expressos nas resenhas.\n",
        "\n",
        "\n",
        "# Modelagem e Treinamento\n",
        "Foi escolhido o Keras, um modelo popular que transforma palavras em números e entende a relação entre elas.\n",
        " Foram ajustados alguns detalhes do modelo para garantir que ele aprenda da melhor maneira.\n",
        " O modelo foi treinado corretamente, sem problemas de underfitting, o que significa que ele aprendeu bem com os dados.\n",
        " É possível melhorar ainda mais o modelo ajustando alguns detalhes, como a taxa de aprendizado.\n",
        "\n",
        "\n",
        "# Avaliação de Resultados\n",
        " Métricas de Avaliação: Foi executada uma métrica chamada SparseCategoricalAccuracy para avaliar o modelo.\n",
        "\n",
        "O modelo foi treinado com a base de treino e testado com a base de teste, conforme indicado pelas etapas de ajuste (fit) e avaliação (evaluate).\n",
        "\n",
        " Foi implementado o modelo LSTM para análise de sentimento. Mas que é adequado para sequências de texto devido à sua capacidade de capturar dependências de longo prazo."
      ],
      "metadata": {
        "id": "49ce8zBLlPvn"
      }
    },
    {
      "cell_type": "markdown",
      "metadata": {
        "id": "-ixzf4Rary5o"
      },
      "source": [
        "# Análise de Sentimento - base IMDB"
      ]
    },
    {
      "cell_type": "markdown",
      "metadata": {
        "id": "5PfBKRHiry5o"
      },
      "source": [
        "Etapas:\n",
        "\n",
        "- Carregar dados\n",
        "- Definir modelo Keras\n",
        "- Compilar modelo Keras\n",
        "- Ajustar (fit) modelo Keras\n",
        "- Avaliar (evalute) modelo Keras\n",
        "- Faça previsões (predict)"
      ]
    },
    {
      "cell_type": "markdown",
      "metadata": {
        "id": "1q8Qkehgry5o"
      },
      "source": [
        "## Carregar dados"
      ]
    },
    {
      "cell_type": "code",
      "execution_count": null,
      "metadata": {
        "id": "EZ6fwWWwry5p"
      },
      "outputs": [],
      "source": [
        "import os\n",
        "\n",
        "os.environ[\"TF_CPP_MIN_LOG_LEVEL\"] = \"2\"\n",
        "#Para evitar que o console fique poluído com mensagens desnecessárias."
      ]
    },
    {
      "cell_type": "code",
      "execution_count": null,
      "metadata": {
        "id": "8LYhMEtQry5p"
      },
      "outputs": [],
      "source": [
        "#Importando bibliotecas\n",
        "import matplotlib.pyplot as plt\n",
        "import numpy as np\n",
        "import tensorflow as tf\n",
        "from tensorflow import keras"
      ]
    },
    {
      "cell_type": "code",
      "execution_count": null,
      "metadata": {
        "colab": {
          "base_uri": "https://localhost:8080/"
        },
        "id": "k1FBePivry5p",
        "outputId": "2a19cde5-0943-446b-d7b8-606acc8596e6"
      },
      "outputs": [
        {
          "output_type": "stream",
          "name": "stdout",
          "text": [
            "Downloading data from https://storage.googleapis.com/tensorflow/tf-keras-datasets/imdb.npz\n",
            "17464789/17464789 [==============================] - 0s 0us/step\n"
          ]
        }
      ],
      "source": [
        "data = keras.datasets.imdb\n",
        "\n",
        "(x_train, y_train), (x_test, y_test) = data.load_data()\n",
        "#Importando dataset IMB, onde x_train é a lista de críticas de filmes e y_train de rótulos de sentimento (1 = positivo, 0 = negativo). x_test e y_test são os dados de teste de mesma estrutura."
      ]
    },
    {
      "cell_type": "code",
      "execution_count": null,
      "metadata": {
        "colab": {
          "base_uri": "https://localhost:8080/"
        },
        "id": "xaY32W56ry5p",
        "outputId": "9a2e07fd-2d39-4f39-8785-9f12dcae91b2"
      },
      "outputs": [
        {
          "output_type": "execute_result",
          "data": {
            "text/plain": [
              "((25000,), (25000,))"
            ]
          },
          "metadata": {},
          "execution_count": 6
        }
      ],
      "source": [
        "x_train.shape, y_train.shape\n",
        "#x_train é um array de listas, onde cada lista representa uma crítica de filme. y_train é um array de rótulos, onde cada rótulo é 0 (para uma crítica negativa) ou 1 (para uma crítica positiva)."
      ]
    },
    {
      "cell_type": "code",
      "execution_count": null,
      "metadata": {
        "colab": {
          "base_uri": "https://localhost:8080/"
        },
        "id": "fX-eDCwiry5p",
        "outputId": "d7a3af89-948e-4322-e7f4-77ab41ce1acc"
      },
      "outputs": [
        {
          "output_type": "execute_result",
          "data": {
            "text/plain": [
              "((25000,), (25000,))"
            ]
          },
          "metadata": {},
          "execution_count": 7
        }
      ],
      "source": [
        "x_test.shape, y_test.shape\n",
        "#x_test.shape retorna o número total de críticas de filmes no conjunto de teste. y_test.shape retornará o número total de rótulos no conjunto de teste."
      ]
    },
    {
      "cell_type": "code",
      "execution_count": null,
      "metadata": {
        "colab": {
          "base_uri": "https://localhost:8080/"
        },
        "id": "GgNFJ8Fyry5p",
        "outputId": "07a1b05d-bf92-4cf3-b1e3-db5191b080c9"
      },
      "outputs": [
        {
          "output_type": "execute_result",
          "data": {
            "text/plain": [
              "[1,\n",
              " 14,\n",
              " 22,\n",
              " 16,\n",
              " 43,\n",
              " 530,\n",
              " 973,\n",
              " 1622,\n",
              " 1385,\n",
              " 65,\n",
              " 458,\n",
              " 4468,\n",
              " 66,\n",
              " 3941,\n",
              " 4,\n",
              " 173,\n",
              " 36,\n",
              " 256,\n",
              " 5,\n",
              " 25,\n",
              " 100,\n",
              " 43,\n",
              " 838,\n",
              " 112,\n",
              " 50,\n",
              " 670,\n",
              " 22665,\n",
              " 9,\n",
              " 35,\n",
              " 480,\n",
              " 284,\n",
              " 5,\n",
              " 150,\n",
              " 4,\n",
              " 172,\n",
              " 112,\n",
              " 167,\n",
              " 21631,\n",
              " 336,\n",
              " 385,\n",
              " 39,\n",
              " 4,\n",
              " 172,\n",
              " 4536,\n",
              " 1111,\n",
              " 17,\n",
              " 546,\n",
              " 38,\n",
              " 13,\n",
              " 447,\n",
              " 4,\n",
              " 192,\n",
              " 50,\n",
              " 16,\n",
              " 6,\n",
              " 147,\n",
              " 2025,\n",
              " 19,\n",
              " 14,\n",
              " 22,\n",
              " 4,\n",
              " 1920,\n",
              " 4613,\n",
              " 469,\n",
              " 4,\n",
              " 22,\n",
              " 71,\n",
              " 87,\n",
              " 12,\n",
              " 16,\n",
              " 43,\n",
              " 530,\n",
              " 38,\n",
              " 76,\n",
              " 15,\n",
              " 13,\n",
              " 1247,\n",
              " 4,\n",
              " 22,\n",
              " 17,\n",
              " 515,\n",
              " 17,\n",
              " 12,\n",
              " 16,\n",
              " 626,\n",
              " 18,\n",
              " 19193,\n",
              " 5,\n",
              " 62,\n",
              " 386,\n",
              " 12,\n",
              " 8,\n",
              " 316,\n",
              " 8,\n",
              " 106,\n",
              " 5,\n",
              " 4,\n",
              " 2223,\n",
              " 5244,\n",
              " 16,\n",
              " 480,\n",
              " 66,\n",
              " 3785,\n",
              " 33,\n",
              " 4,\n",
              " 130,\n",
              " 12,\n",
              " 16,\n",
              " 38,\n",
              " 619,\n",
              " 5,\n",
              " 25,\n",
              " 124,\n",
              " 51,\n",
              " 36,\n",
              " 135,\n",
              " 48,\n",
              " 25,\n",
              " 1415,\n",
              " 33,\n",
              " 6,\n",
              " 22,\n",
              " 12,\n",
              " 215,\n",
              " 28,\n",
              " 77,\n",
              " 52,\n",
              " 5,\n",
              " 14,\n",
              " 407,\n",
              " 16,\n",
              " 82,\n",
              " 10311,\n",
              " 8,\n",
              " 4,\n",
              " 107,\n",
              " 117,\n",
              " 5952,\n",
              " 15,\n",
              " 256,\n",
              " 4,\n",
              " 31050,\n",
              " 7,\n",
              " 3766,\n",
              " 5,\n",
              " 723,\n",
              " 36,\n",
              " 71,\n",
              " 43,\n",
              " 530,\n",
              " 476,\n",
              " 26,\n",
              " 400,\n",
              " 317,\n",
              " 46,\n",
              " 7,\n",
              " 4,\n",
              " 12118,\n",
              " 1029,\n",
              " 13,\n",
              " 104,\n",
              " 88,\n",
              " 4,\n",
              " 381,\n",
              " 15,\n",
              " 297,\n",
              " 98,\n",
              " 32,\n",
              " 2071,\n",
              " 56,\n",
              " 26,\n",
              " 141,\n",
              " 6,\n",
              " 194,\n",
              " 7486,\n",
              " 18,\n",
              " 4,\n",
              " 226,\n",
              " 22,\n",
              " 21,\n",
              " 134,\n",
              " 476,\n",
              " 26,\n",
              " 480,\n",
              " 5,\n",
              " 144,\n",
              " 30,\n",
              " 5535,\n",
              " 18,\n",
              " 51,\n",
              " 36,\n",
              " 28,\n",
              " 224,\n",
              " 92,\n",
              " 25,\n",
              " 104,\n",
              " 4,\n",
              " 226,\n",
              " 65,\n",
              " 16,\n",
              " 38,\n",
              " 1334,\n",
              " 88,\n",
              " 12,\n",
              " 16,\n",
              " 283,\n",
              " 5,\n",
              " 16,\n",
              " 4472,\n",
              " 113,\n",
              " 103,\n",
              " 32,\n",
              " 15,\n",
              " 16,\n",
              " 5345,\n",
              " 19,\n",
              " 178,\n",
              " 32]"
            ]
          },
          "metadata": {},
          "execution_count": 8
        }
      ],
      "source": [
        "x_train[0]\n",
        "#É a primeira crítica de filme no conjunto de treinamento. Cada crítica é uma lista de índices de palavras. Cada índice corresponde a uma palavra específica no vocabulário."
      ]
    },
    {
      "cell_type": "code",
      "execution_count": null,
      "metadata": {
        "colab": {
          "base_uri": "https://localhost:8080/"
        },
        "id": "RTTs0NVXry5p",
        "outputId": "b680db7d-01c0-40f7-8b0c-e1234cce1d83"
      },
      "outputs": [
        {
          "output_type": "execute_result",
          "data": {
            "text/plain": [
              "218"
            ]
          },
          "metadata": {},
          "execution_count": 9
        }
      ],
      "source": [
        "len(x_train[0])\n",
        "#Retorna o comprimento da primeira crítica de filme no conjunto de treinamento, ou seja, o número de palavras na primeira crítica."
      ]
    },
    {
      "cell_type": "code",
      "execution_count": null,
      "metadata": {
        "colab": {
          "base_uri": "https://localhost:8080/"
        },
        "id": "DxwbOgQnry5q",
        "outputId": "06cafc6d-c224-441d-b5cb-ecf64cce783b"
      },
      "outputs": [
        {
          "output_type": "execute_result",
          "data": {
            "text/plain": [
              "array([1, 0, 0, 1, 0])"
            ]
          },
          "metadata": {},
          "execution_count": 10
        }
      ],
      "source": [
        "y_train[:5]\n",
        "#Retorna os primeiros 5 rótulos no conjunto de treinamento. No contexto do conjunto de dados IMDB, cada rótulo é 0 (para uma crítica negativa) ou 1 (para uma crítica positiva).\n",
        "#Portanto, y_train[:5] retornará os rótulos de sentimento das primeiras 5 críticas no conjunto de treinamento."
      ]
    },
    {
      "cell_type": "code",
      "execution_count": null,
      "metadata": {
        "colab": {
          "base_uri": "https://localhost:8080/"
        },
        "id": "U8VlSoQZry5q",
        "outputId": "18b1801f-16de-4053-fb09-e3255fd187ab"
      },
      "outputs": [
        {
          "output_type": "execute_result",
          "data": {
            "text/plain": [
              "(array([0, 1]), array([12500, 12500]))"
            ]
          },
          "metadata": {},
          "execution_count": 11
        }
      ],
      "source": [
        "np.unique(y_train, return_counts=True)\n",
        "#Retorna os valores únicos em y_train e conta quantas vezes cada um aparece.\n",
        "#A expressão vai contar quantas críticas negativas e positivas existem no conjunto de treinamento."
      ]
    },
    {
      "cell_type": "code",
      "execution_count": null,
      "metadata": {
        "colab": {
          "base_uri": "https://localhost:8080/"
        },
        "id": "-YRujmAhry5q",
        "outputId": "6abc38f0-ccfe-43bc-8cee-106d565484b5"
      },
      "outputs": [
        {
          "output_type": "stream",
          "name": "stdout",
          "text": [
            "Downloading data from https://storage.googleapis.com/tensorflow/tf-keras-datasets/imdb_word_index.json\n",
            "1641221/1641221 [==============================] - 0s 0us/step\n"
          ]
        }
      ],
      "source": [
        "word_index = data.get_word_index()\n",
        "# word_index\n",
        "#Criando um dicionário de palavras para índices a partir do conjunto de dados IMDB."
      ]
    },
    {
      "cell_type": "code",
      "execution_count": null,
      "metadata": {
        "colab": {
          "base_uri": "https://localhost:8080/"
        },
        "id": "4hb05Avtry5q",
        "outputId": "f5dd535a-ba35-4525-a87f-27ae759d3030"
      },
      "outputs": [
        {
          "output_type": "execute_result",
          "data": {
            "text/plain": [
              "88584"
            ]
          },
          "metadata": {},
          "execution_count": 13
        }
      ],
      "source": [
        "len(word_index)\n",
        "#Retorna o número de entradas no dicionário."
      ]
    },
    {
      "cell_type": "code",
      "execution_count": null,
      "metadata": {
        "colab": {
          "base_uri": "https://localhost:8080/"
        },
        "id": "iQIAMR1Try5q",
        "outputId": "e93c0601-fb8e-4572-f34c-9afdea0df781"
      },
      "outputs": [
        {
          "output_type": "execute_result",
          "data": {
            "text/plain": [
              "1"
            ]
          },
          "metadata": {},
          "execution_count": 14
        }
      ],
      "source": [
        "word_index[\"the\"]\n",
        "#Retorna o índice único que representa a palavra “the”."
      ]
    },
    {
      "cell_type": "code",
      "execution_count": null,
      "metadata": {
        "colab": {
          "base_uri": "https://localhost:8080/"
        },
        "id": "nQpBKBdkry5q",
        "outputId": "dd2eca25-4110-4a34-e590-bd4fe10c2cfd"
      },
      "outputs": [
        {
          "output_type": "stream",
          "name": "stdout",
          "text": [
            "the\n"
          ]
        }
      ],
      "source": [
        "for chave, valor in word_index.items():\n",
        "    if valor == 1:\n",
        "        print(chave)\n",
        "        #Retorna o índice único que representa o valor “1”."
      ]
    },
    {
      "cell_type": "code",
      "execution_count": null,
      "metadata": {
        "colab": {
          "base_uri": "https://localhost:8080/"
        },
        "id": "cTZnT6ckry5q",
        "outputId": "44651bd2-f659-4eb3-f2de-ba80f5e7dfe3"
      },
      "outputs": [
        {
          "output_type": "stream",
          "name": "stdout",
          "text": [
            "218\n",
            "189\n",
            "141\n",
            "550\n",
            "147\n"
          ]
        }
      ],
      "source": [
        "for review in x_train[:5]:\n",
        "    print(len(review))\n",
        "    #Imprime o número de palavras nas primeiras 5 críticas no conjunto de treinamento."
      ]
    },
    {
      "cell_type": "markdown",
      "source": [
        "# **Conceito de Token**"
      ],
      "metadata": {
        "id": "66BGZZBi0KSl"
      }
    },
    {
      "cell_type": "markdown",
      "metadata": {
        "id": "eAzmoZnMry5q"
      },
      "source": [
        "No processamento de linguagem natural, como na análise de dados de texto do IMDB, um “token” é basicamente uma palavra. “Tokenização” é o processo de dividir o texto em palavras individuais, que chamamos de “tokens”. Isso é importante porque ajuda a transformar o texto em uma forma que os modelos de aprendizado de máquina podem entender e usar. Por exemplo, uma frase é dividida em palavras individuais, e cada palavra é um “token”."
      ]
    },
    {
      "cell_type": "markdown",
      "metadata": {
        "id": "o2wriUQ8ry5r"
      },
      "source": [
        "Considere a frase \"Aprendendo processamento de linguagem natural\". Na tokenização, esta frase seria dividida em tokens individuais. Cada palavra representa um token:\n",
        "\n",
        "- Token 1: \"Aprendendo\"\n",
        "- Token 2: \"processamento\"\n",
        "- Token 3: \"de\"\n",
        "- Token 4: \"linguagem\"\n",
        "- Token 5: \"natural\"\n",
        "\n",
        "Neste exemplo, a frase original é decomposta em palavras isoladas, cada uma considerada um token."
      ]
    },
    {
      "cell_type": "markdown",
      "metadata": {
        "id": "tVWaT5Pqry5r"
      },
      "source": [
        "Um exemplo onde um token não é necessariamente uma palavra pode ser encontrado na tokenização baseada em caracteres ou sílabas. Por exemplo, na frase \"Incrível\", a tokenização por sílabas resultaria nos tokens \"In\", \"crí\", \"vel\". Aqui, cada sílaba é tratada como um token distinto, ao invés de cada palavra inteira. Este tipo de tokenização pode ser útil em tarefas de processamento de linguagem natural que exigem uma análise mais detalhada do texto, como na compreensão de padrões fonéticos ou na análise de idiomas com estruturas de palavras complexas."
      ]
    },
    {
      "cell_type": "markdown",
      "metadata": {
        "id": "uBTchCF7ry5r"
      },
      "source": [
        "- PAD é o token usado para preenchimento. Nós preenchemos todas as sequências para o mesmo comprimento, que é o comprimento da sequência mais longa.\n",
        "- START é o token usado para marcar o início de uma sequência.\n",
        "- UNK é o token usado para marcar palavras desconhecidas (palavras que não estão no vocabulário).\n",
        "- UNUSED é o token usado para preencher as posições não utilizadas em uma sequência."
      ]
    },
    {
      "cell_type": "markdown",
      "source": [
        "Preparando o dicionário para ser usado em NLP, onde cada palavra é mapeada para um valor único, e quatro tokens especiais são adicionados para ajudar no processamento das sequências."
      ],
      "metadata": {
        "id": "B0Uh36VozZVj"
      }
    },
    {
      "cell_type": "code",
      "execution_count": null,
      "metadata": {
        "id": "aEZlrMdVry5r"
      },
      "outputs": [],
      "source": [
        "word_index = {chave: (valor + 3) for chave, valor in word_index.items()}\n",
        "#O código está atualizando o dicionário word_index ao adicionar 3 a cada valor (índice) no dicionário."
      ]
    },
    {
      "cell_type": "code",
      "execution_count": null,
      "metadata": {
        "id": "QsyJjWKyry5r"
      },
      "outputs": [],
      "source": [
        "word_index[\"<PAD>\"] = 0\n",
        "word_index[\"<START>\"] = 1\n",
        "word_index[\"<UNK>\"] = 2\n",
        "word_index[\"<UNUSED>\"] = 3\n",
        "#Adicionando quatro novas palavras ao word_index. Essas palavras são especiais e usadas para tarefas específicas ao lidar com texto:\n",
        "#\"<PAD>\": Usado para preencher o texto para que todas as críticas tenham o mesmo tamanho.\n",
        "#\"<START>\": Marca o início de uma crítica.\n",
        "#\"<UNK>\": Representa uma palavra desconhecida ou muito rara.\n",
        "#\"<UNUSED>\"\": Um espaço reservado para palavras que não são usadas."
      ]
    },
    {
      "cell_type": "code",
      "source": [
        "for chave, valor in word_index.items():\n",
        "    if valor == 1:\n",
        "        print(chave)\n",
        "        #Imprimindo a chave (palavra) cujo valor (índice) é 1."
      ],
      "metadata": {
        "colab": {
          "base_uri": "https://localhost:8080/"
        },
        "id": "yLd5_Hd-GFqy",
        "outputId": "5131085a-83f7-4b5a-f7df-30561fb16c05"
      },
      "execution_count": null,
      "outputs": [
        {
          "output_type": "stream",
          "name": "stdout",
          "text": [
            "<START>\n"
          ]
        }
      ]
    },
    {
      "cell_type": "code",
      "execution_count": null,
      "metadata": {
        "id": "8ZAumeQCry5r"
      },
      "outputs": [],
      "source": [
        "def decode_review(text, index):\n",
        "    reverse_index = {value: key for key, value in index.items()}\n",
        "    return \" \".join([reverse_index.get(value, \"<UNK>\") for value in text])\n",
        "    #A função decode_review transforma uma lista de números em uma frase.\n",
        "    #Ela faz isso usando o dicionário que mapeia números para palavras. Se um número não está no dicionário, ela usa a palavra \"<UNK>\".\n",
        "    #Então, ela junta todas as palavras com espaços para formar uma frase."
      ]
    },
    {
      "cell_type": "code",
      "execution_count": null,
      "metadata": {
        "colab": {
          "base_uri": "https://localhost:8080/",
          "height": 174
        },
        "id": "yNgsUB_iry5r",
        "outputId": "c9a31868-db91-4577-bb56-fcf5ed1a475e"
      },
      "outputs": [
        {
          "output_type": "execute_result",
          "data": {
            "text/plain": [
              "\"<START> this film was just brilliant casting location scenery story direction everyone's really suited the part they played and you could just imagine being there robert redford's is an amazing actor and now the same being director norman's father came from the same scottish island as myself so i loved the fact there was a real connection with this film the witty remarks throughout the film were great it was just brilliant so much that i bought the film as soon as it was released for retail and would recommend it to everyone to watch and the fly fishing was amazing really cried at the end it was so sad and you know what they say if you cry at a film it must have been good and this definitely was also congratulations to the two little boy's that played the part's of norman and paul they were just brilliant children are often left out of the praising list i think because the stars that play them all grown up are such a big profile for the whole film but these children are amazing and should be praised for what they have done don't you think the whole story was so lovely because it was true and was someone's life after all that was shared with us all\""
            ],
            "application/vnd.google.colaboratory.intrinsic+json": {
              "type": "string"
            }
          },
          "metadata": {},
          "execution_count": 22
        }
      ],
      "source": [
        "decode_review(x_train[0], word_index)\n",
        "#Transforma essa lista de números de volta em uma frase legível, onde cada número é substituído pela palavra correspondente."
      ]
    },
    {
      "cell_type": "code",
      "execution_count": null,
      "metadata": {
        "id": "BdJJc7J3ry5r"
      },
      "outputs": [],
      "source": [
        "import textwrap\n",
        "\n",
        "\n",
        "def print_review(text, width=50):\n",
        "    wrapper = textwrap.TextWrapper(width=width)\n",
        "    print(wrapper.fill(text))\n",
        "    #Permite que o código use a funcionalidade de formatação de texto do Python.\n",
        "    #Isso formata o texto para que cada linha tenha no máximo a largura especificada."
      ]
    },
    {
      "cell_type": "code",
      "execution_count": null,
      "metadata": {
        "colab": {
          "base_uri": "https://localhost:8080/"
        },
        "id": "cCfeOB2_ry5r",
        "outputId": "35310ab5-872d-4551-ad37-22c5d4b6afa4"
      },
      "outputs": [
        {
          "output_type": "stream",
          "name": "stdout",
          "text": [
            "<START> this film was just brilliant casting\n",
            "location scenery story direction everyone's really\n",
            "suited the part they played and you could just\n",
            "imagine being there robert redford's is an amazing\n",
            "actor and now the same being director norman's\n",
            "father came from the same scottish island as\n",
            "myself so i loved the fact there was a real\n",
            "connection with this film the witty remarks\n",
            "throughout the film were great it was just\n",
            "brilliant so much that i bought the film as soon\n",
            "as it was released for retail and would recommend\n",
            "it to everyone to watch and the fly fishing was\n",
            "amazing really cried at the end it was so sad and\n",
            "you know what they say if you cry at a film it\n",
            "must have been good and this definitely was also\n",
            "congratulations to the two little boy's that\n",
            "played the part's of norman and paul they were\n",
            "just brilliant children are often left out of the\n",
            "praising list i think because the stars that play\n",
            "them all grown up are such a big profile for the\n",
            "whole film but these children are amazing and\n",
            "should be praised for what they have done don't\n",
            "you think the whole story was so lovely because it\n",
            "was true and was someone's life after all that was\n",
            "shared with us all\n"
          ]
        }
      ],
      "source": [
        "print_review(decode_review(x_train[0], word_index))\n",
        "#Após converter os tokens na revisão de volta para palavras.\n",
        "#Imprime a revisão decodificada onde cada linha tenha 50 caracteres."
      ]
    },
    {
      "cell_type": "markdown",
      "metadata": {
        "id": "Bdl7nCPTry5r"
      },
      "source": [
        "https://www.tensorflow.org/api_docs/python/tf/keras/utils/pad_sequences"
      ]
    },
    {
      "cell_type": "code",
      "execution_count": null,
      "metadata": {
        "colab": {
          "base_uri": "https://localhost:8080/"
        },
        "id": "9qVz-Hkiry5s",
        "outputId": "fb97ed1c-a8e5-49bc-c592-b5da398c2986"
      },
      "outputs": [
        {
          "output_type": "stream",
          "name": "stdout",
          "text": [
            "<START> the scots excel at storytelling the\n",
            "traditional sort many years after the event i can\n",
            "still see in my mind's eye an elderly lady my\n",
            "friend's mother retelling the battle of culloden\n",
            "she makes the characters come alive her passion is\n",
            "that of an eye witness one to the events on the\n",
            "sodden heath a mile or so from where she lives br\n",
            "br of course it happened many years before she was\n",
            "born but you wouldn't guess from the way she tells\n",
            "it the same story is told in bars the length and\n",
            "breadth of scotland as i discussed it with a\n",
            "friend one night in mallaig a local cut in to give\n",
            "his version the discussion continued to closing\n",
            "time br br stories passed down like this become\n",
            "part of our being who doesn't remember the stories\n",
            "our parents told us when we were children they\n",
            "become our invisible world and as we grow older\n",
            "they maybe still serve as inspiration or as an\n",
            "emotional reservoir fact and fiction blend with\n",
            "aspiration role models warning stories archetypes\n",
            "magic and mystery br br my name is aonghas like my\n",
            "grandfather and his grandfather before him our\n",
            "protagonist introduces himself to us and also\n",
            "introduces the story that stretches back through\n",
            "generations it produces stories within stories\n",
            "stories that evoke the impenetrable wonder of\n",
            "scotland its rugged mountains shrouded in mists\n",
            "the stuff of legend yet seach'd is rooted in\n",
            "reality this is what gives it its special charm it\n",
            "has a rough beauty and authenticity tempered with\n",
            "some of the finest gaelic singing you will ever\n",
            "hear br br aonghas angus visits his grandfather in\n",
            "hospital shortly before his death he burns with\n",
            "frustration part of him yearns to be in the twenty\n",
            "first century to hang out in glasgow but he is\n",
            "raised on the western shores among a gaelic\n",
            "speaking community br br yet there is a deeper\n",
            "conflict within him he yearns to know the truth\n",
            "the truth behind his grandfather's ancient stories\n",
            "where does fiction end and he wants to know the\n",
            "truth behind the death of his parents br br he is\n",
            "pulled to make a last fateful journey to the\n",
            "summit of one of scotland's most inaccessible\n",
            "mountains can the truth be told or is it all in\n",
            "stories br br in this story about stories we\n",
            "revisit bloody battles poisoned lovers the\n",
            "folklore of old and the sometimes more treacherous\n",
            "folklore of accepted truth in doing so we each\n",
            "connect with angus as he lives the story of his\n",
            "own life br br seachd the inaccessible pinnacle is\n",
            "probably the most honest unpretentious and\n",
            "genuinely beautiful film of scotland ever made\n",
            "like angus i got slightly annoyed with the pretext\n",
            "of hanging stories on more stories but also like\n",
            "angus i forgave this once i saw the 'bigger\n",
            "picture ' forget the box office pastiche of\n",
            "braveheart and its like you might even forego the\n",
            "justly famous dramatisation of the wicker man to\n",
            "see a film that is true to scotland this one is\n",
            "probably unique if you maybe meditate on it deeply\n",
            "enough you might even re evaluate the power of\n",
            "storytelling and the age old question of whether\n",
            "there are some truths that cannot be told but only\n",
            "experienced\n"
          ]
        }
      ],
      "source": [
        "print_review(decode_review(x_train[3], word_index))\n",
        "#decodifica a quarta revisão no conjunto de treinamento (x_train[3])"
      ]
    },
    {
      "cell_type": "code",
      "execution_count": null,
      "metadata": {
        "id": "BeZ0ThlFry5s"
      },
      "outputs": [],
      "source": [
        "x_train = keras.utils.pad_sequences(\n",
        "    x_train,\n",
        "    value=word_index[\"<PAD>\"],\n",
        "    padding=\"post\",\n",
        "    truncating=\"post\",\n",
        "    maxlen=256\n",
        ")\n",
        "\n",
        "x_test = keras.utils.pad_sequences(\n",
        "    x_test,\n",
        "    value=word_index[\"<PAD>\"],\n",
        "    padding=\"post\",\n",
        "    truncating=\"post\",\n",
        "    maxlen=256\n",
        ")\n",
        "#pad_sequences= Cada sequência é uma revisão de filme representada como uma lista de tokens.\n",
        "#value=word_index[\"<PAD>\"]: Isso define o valor que será usado para preencher as sequências que são mais curtas que o comprimento máximo. No caso, <PAD> é um token especial que representa o preenchimento.\n",
        "#truncating=\"post\": Isso significa que as sequências que são mais longas que o comprimento máximo serão truncadas no final.\n",
        "#maxlen=256:Define o comprimento máximo para as sequências. Qualquer sequência que seja mais longa que isso será truncada e qualquer sequência que seja mais curta que isso será preenchida."
      ]
    },
    {
      "cell_type": "code",
      "execution_count": null,
      "metadata": {
        "colab": {
          "base_uri": "https://localhost:8080/"
        },
        "id": "808wmiTory5s",
        "outputId": "5052aaf5-1d9a-47dd-ebb8-5c0a65b10794"
      },
      "outputs": [
        {
          "output_type": "stream",
          "name": "stdout",
          "text": [
            "<START> this film was just brilliant casting\n",
            "location scenery story direction everyone's really\n",
            "suited the part they played and you could just\n",
            "imagine being there robert redford's is an amazing\n",
            "actor and now the same being director norman's\n",
            "father came from the same scottish island as\n",
            "myself so i loved the fact there was a real\n",
            "connection with this film the witty remarks\n",
            "throughout the film were great it was just\n",
            "brilliant so much that i bought the film as soon\n",
            "as it was released for retail and would recommend\n",
            "it to everyone to watch and the fly fishing was\n",
            "amazing really cried at the end it was so sad and\n",
            "you know what they say if you cry at a film it\n",
            "must have been good and this definitely was also\n",
            "congratulations to the two little boy's that\n",
            "played the part's of norman and paul they were\n",
            "just brilliant children are often left out of the\n",
            "praising list i think because the stars that play\n",
            "them all grown up are such a big profile for the\n",
            "whole film but these children are amazing and\n",
            "should be praised for what they have done don't\n",
            "you think the whole story was so lovely because it\n",
            "was true and was someone's life after all that was\n",
            "shared with us all <PAD> <PAD> <PAD> <PAD> <PAD>\n",
            "<PAD> <PAD> <PAD> <PAD> <PAD> <PAD> <PAD> <PAD>\n",
            "<PAD> <PAD> <PAD> <PAD> <PAD> <PAD> <PAD> <PAD>\n",
            "<PAD> <PAD> <PAD> <PAD> <PAD> <PAD> <PAD> <PAD>\n",
            "<PAD> <PAD> <PAD> <PAD> <PAD> <PAD> <PAD> <PAD>\n",
            "<PAD>\n"
          ]
        }
      ],
      "source": [
        "print_review(decode_review(x_train[0], word_index))\n",
        "#Imprimindo a revisão decodificada.\n",
        "#<START>:Token especial que indica o início de uma revisão.\n",
        "#<PAD>:Token especial usado para preencher todas as sequências para o mesmo comprimento.Preenchemos todas as sequências para terem o mesmo comprimento da sequência mais longa."
      ]
    },
    {
      "cell_type": "code",
      "execution_count": null,
      "metadata": {
        "colab": {
          "base_uri": "https://localhost:8080/"
        },
        "id": "6WyMNDX_ry5s",
        "outputId": "9e37cf85-f55c-44db-db1b-cb9c91b4a269"
      },
      "outputs": [
        {
          "output_type": "execute_result",
          "data": {
            "text/plain": [
              "array([    1,    14,    22,    16,    43,   530,   973,  1622,  1385,\n",
              "          65,   458,  4468,    66,  3941,     4,   173,    36,   256,\n",
              "           5,    25,   100,    43,   838,   112,    50,   670, 22665,\n",
              "           9,    35,   480,   284,     5,   150,     4,   172,   112,\n",
              "         167, 21631,   336,   385,    39,     4,   172,  4536,  1111,\n",
              "          17,   546,    38,    13,   447,     4,   192,    50,    16,\n",
              "           6,   147,  2025,    19,    14,    22,     4,  1920,  4613,\n",
              "         469,     4,    22,    71,    87,    12,    16,    43,   530,\n",
              "          38,    76,    15,    13,  1247,     4,    22,    17,   515,\n",
              "          17,    12,    16,   626,    18, 19193,     5,    62,   386,\n",
              "          12,     8,   316,     8,   106,     5,     4,  2223,  5244,\n",
              "          16,   480,    66,  3785,    33,     4,   130,    12,    16,\n",
              "          38,   619,     5,    25,   124,    51,    36,   135,    48,\n",
              "          25,  1415,    33,     6,    22,    12,   215,    28,    77,\n",
              "          52,     5,    14,   407,    16,    82, 10311,     8,     4,\n",
              "         107,   117,  5952,    15,   256,     4, 31050,     7,  3766,\n",
              "           5,   723,    36,    71,    43,   530,   476,    26,   400,\n",
              "         317,    46,     7,     4, 12118,  1029,    13,   104,    88,\n",
              "           4,   381,    15,   297,    98,    32,  2071,    56,    26,\n",
              "         141,     6,   194,  7486,    18,     4,   226,    22,    21,\n",
              "         134,   476,    26,   480,     5,   144,    30,  5535,    18,\n",
              "          51,    36,    28,   224,    92,    25,   104,     4,   226,\n",
              "          65,    16,    38,  1334,    88,    12,    16,   283,     5,\n",
              "          16,  4472,   113,   103,    32,    15,    16,  5345,    19,\n",
              "         178,    32,     0,     0,     0,     0,     0,     0,     0,\n",
              "           0,     0,     0,     0,     0,     0,     0,     0,     0,\n",
              "           0,     0,     0,     0,     0,     0,     0,     0,     0,\n",
              "           0,     0,     0,     0,     0,     0,     0,     0,     0,\n",
              "           0,     0,     0,     0], dtype=int32)"
            ]
          },
          "metadata": {},
          "execution_count": 28
        }
      ],
      "source": [
        "x_train[0]\n",
        "#Cada número na matriz corresponde a uma palavra específica. Por exemplo, o número 1 representa a palavra <START>.\n",
        "#A sequência de números representa a ordem das palavras na revisão. Por exemplo, a sequência [1, 14, 22, 16, 43] representa a sequência de palavras <START> this film was just.\n",
        "#O número 0 representa o token especial <PAD>, que é usado para preencher todas as sequências para terem o mesmo comprimento."
      ]
    },
    {
      "cell_type": "code",
      "execution_count": null,
      "metadata": {
        "colab": {
          "base_uri": "https://localhost:8080/"
        },
        "id": "e-pykmxdry5s",
        "outputId": "b0b3c450-55a1-4805-ea16-9bd43a7845ae"
      },
      "outputs": [
        {
          "output_type": "stream",
          "name": "stdout",
          "text": [
            "<START> the scots excel at storytelling the\n",
            "traditional sort many years after the event i can\n",
            "still see in my mind's eye an elderly lady my\n",
            "friend's mother retelling the battle of culloden\n",
            "she makes the characters come alive her passion is\n",
            "that of an eye witness one to the events on the\n",
            "sodden heath a mile or so from where she lives br\n",
            "br of course it happened many years before she was\n",
            "born but you wouldn't guess from the way she tells\n",
            "it the same story is told in bars the length and\n",
            "breadth of scotland as i discussed it with a\n",
            "friend one night in mallaig a local cut in to give\n",
            "his version the discussion continued to closing\n",
            "time br br stories passed down like this become\n",
            "part of our being who doesn't remember the stories\n",
            "our parents told us when we were children they\n",
            "become our invisible world and as we grow older\n",
            "they maybe still serve as inspiration or as an\n",
            "emotional reservoir fact and fiction blend with\n",
            "aspiration role models warning stories archetypes\n",
            "magic and mystery br br my name is aonghas like my\n",
            "grandfather and his grandfather before him our\n",
            "protagonist introduces himself to us and also\n",
            "introduces the story that stretches back through\n",
            "generations it produces stories within stories\n",
            "stories that evoke the impenetrable wonder of\n",
            "scotland its rugged mountains shrouded in mists\n",
            "the stuff of legend yet seach'd is rooted in\n",
            "reality this is what gives it its special charm it\n",
            "has a rough beauty and\n"
          ]
        }
      ],
      "source": [
        "print_review(decode_review(x_train[3], word_index))\n",
        "#Imprimindo a quarta revisão (índice 3) no conjunto de treinamento, que foi decodificada de números para palavras."
      ]
    },
    {
      "cell_type": "code",
      "execution_count": null,
      "metadata": {
        "colab": {
          "base_uri": "https://localhost:8080/"
        },
        "id": "Tx7ObW5Fry5s",
        "outputId": "4d9e0a64-2b94-4f25-b20d-427415468be8"
      },
      "outputs": [
        {
          "output_type": "stream",
          "name": "stdout",
          "text": [
            "256\n",
            "256\n",
            "256\n",
            "256\n",
            "256\n"
          ]
        }
      ],
      "source": [
        "for review in x_train[:5]:\n",
        "    print(len(review))\n",
        "    #Este é um loop for que itera sobre as primeiras 5 revisões no conjunto de treinamento.\n",
        "    #Imprime o comprimento da revisão."
      ]
    },
    {
      "cell_type": "code",
      "execution_count": null,
      "metadata": {
        "colab": {
          "base_uri": "https://localhost:8080/"
        },
        "id": "S7ZCCiVbry5s",
        "outputId": "dbd06f6e-60b1-4577-ef04-f2b44277da43"
      },
      "outputs": [
        {
          "output_type": "execute_result",
          "data": {
            "text/plain": [
              "(25000, 256)"
            ]
          },
          "metadata": {},
          "execution_count": 31
        }
      ],
      "source": [
        "x_train.shape\n",
        "#Formato dos dados de treinamento."
      ]
    },
    {
      "cell_type": "markdown",
      "metadata": {
        "id": "Gi8Cezvury5s"
      },
      "source": [
        "## Definir modelo Keras"
      ]
    },
    {
      "cell_type": "markdown",
      "metadata": {
        "id": "6PIGsRSzry5s"
      },
      "source": [
        "### Embedding"
      ]
    },
    {
      "cell_type": "markdown",
      "metadata": {
        "id": "06eF_at2ry5t"
      },
      "source": [
        "https://www.tensorflow.org/api_docs/python/tf/keras/layers/Embedding"
      ]
    },
    {
      "cell_type": "markdown",
      "metadata": {
        "id": "L2EiVP90ry5t"
      },
      "source": [
        "O Embedding no Keras funciona como um tradutor que transforma números, cada um representando uma palavra, em vetores de números reais em um espaço multidimensional. Cada vetor representa uma palavra de maneira única, capturando nuances de seu significado e relação com outras palavras. Por exemplo, na representação vetorial, palavras com significados semelhantes, como \"feliz\" e \"alegre\", ficarão próximas no espaço vetorial. Esses vetores são aprendidos durante o treinamento do modelo, permitindo que a máquina compreenda e processe textos de maneira mais eficaz. Isso é fundamental em tarefas como análise de sentimentos ou tradução automática, onde a compreensão do contexto e das nuances das palavras é crucial."
      ]
    },
    {
      "cell_type": "markdown",
      "metadata": {
        "id": "uw7TUHR7ry5t"
      },
      "source": [
        "![Screenshot 2023-12-21 143449.png](attachment:5da53b07-30e6-4280-aa90-a045efdd64c8.png)"
      ]
    },
    {
      "cell_type": "code",
      "execution_count": null,
      "metadata": {
        "colab": {
          "base_uri": "https://localhost:8080/"
        },
        "id": "Khf7xt_1ry5t",
        "outputId": "a3805b29-00e2-4c59-82ca-5c584ae713ca"
      },
      "outputs": [
        {
          "output_type": "stream",
          "name": "stdout",
          "text": [
            "Model: \"sequential\"\n",
            "_________________________________________________________________\n",
            " Layer (type)                Output Shape              Param #   \n",
            "=================================================================\n",
            " embedding (Embedding)       (None, 256, 64)           5669632   \n",
            "                                                                 \n",
            " lstm (LSTM)                 (None, 64)                33024     \n",
            "                                                                 \n",
            " dense (Dense)               (None, 2)                 130       \n",
            "                                                                 \n",
            "=================================================================\n",
            "Total params: 5702786 (21.75 MB)\n",
            "Trainable params: 5702786 (21.75 MB)\n",
            "Non-trainable params: 0 (0.00 Byte)\n",
            "_________________________________________________________________\n"
          ]
        }
      ],
      "source": [
        "model = keras.Sequential()\n",
        "#Inicializa um novo modelo sequencial.\n",
        "model.add(keras.layers.InputLayer(input_shape=(256,)))\n",
        "#Adiciona uma camada de entrada. Cada entrada para o modelo é um vetor de 256 dimensões.\n",
        "model.add(keras.layers.Embedding(len(word_index), 64))\n",
        "#Adiciona uma camada de incorporação. A camada de incorporação transforma inteiros positivos (índices) em vetores densos de tamanho fixo.\n",
        "model.add(keras.layers.LSTM(64, dropout=0.5))\n",
        "#Adiciona uma camada LSTM (Long Short-Term Memory). 64 é o número de unidades na camada LSTM. dropout=0.5, é a fração das unidades a serem descartadas durante o treinamento.\n",
        "model.add(keras.layers.Dense(2, activation=\"sigmoid\"))\n",
        "#Adiciona uma camada densa (também conhecida como camada totalmente conectada). A camada densa tem 2 unidades e usa a função de ativação sigmoid.\n",
        "model.summary()\n",
        "#Imprime um resumo do modelo, incluindo o número total de parâmetros e a forma de saída de cada camada.\n",
        "\n"
      ]
    },
    {
      "cell_type": "markdown",
      "metadata": {
        "id": "Y092SqyQry5t"
      },
      "source": [
        "## Compilar modelo Keras"
      ]
    },
    {
      "cell_type": "code",
      "execution_count": null,
      "metadata": {
        "id": "DOsCsbk-ry5u"
      },
      "outputs": [],
      "source": [
        "optimizer = keras.optimizers.Adam(1E-4)\n",
        "#Define o otimizador que será usado para treinar o modelo.\n",
        "loss = keras.losses.SparseCategoricalCrossentropy()\n",
        "#Define a função de perda que o modelo tentará minimizar durante o treinamento.\n",
        "metric = keras.metrics.SparseCategoricalAccuracy()\n",
        "#Define a métrica que será usada para avaliar o desempenho do modelo durante o treinamento.\n",
        "\n",
        "model.compile(optimizer=optimizer, loss=loss, metrics=[metric])\n",
        "#Compila o modelo com o otimizador, função de perda e métricas especificados."
      ]
    },
    {
      "cell_type": "markdown",
      "metadata": {
        "id": "ISX621bNry5u"
      },
      "source": [
        "## Fit modelo Keras"
      ]
    },
    {
      "cell_type": "code",
      "execution_count": null,
      "metadata": {
        "colab": {
          "base_uri": "https://localhost:8080/"
        },
        "id": "IBVTFyiIry5u",
        "outputId": "fd8ec0bf-8438-464c-8c3c-cb8182085922"
      },
      "outputs": [
        {
          "output_type": "stream",
          "name": "stdout",
          "text": [
            "Epoch 1/20\n",
            "40/40 [==============================] - 61s 1s/step - loss: 0.6933 - sparse_categorical_accuracy: 0.4947 - val_loss: 0.6930 - val_sparse_categorical_accuracy: 0.5090\n",
            "Epoch 2/20\n",
            "40/40 [==============================] - 62s 2s/step - loss: 0.6929 - sparse_categorical_accuracy: 0.5084 - val_loss: 0.6930 - val_sparse_categorical_accuracy: 0.5090\n",
            "Epoch 3/20\n",
            "40/40 [==============================] - 55s 1s/step - loss: 0.6926 - sparse_categorical_accuracy: 0.5149 - val_loss: 0.6929 - val_sparse_categorical_accuracy: 0.5122\n",
            "Epoch 4/20\n",
            "40/40 [==============================] - 61s 2s/step - loss: 0.6922 - sparse_categorical_accuracy: 0.5231 - val_loss: 0.6928 - val_sparse_categorical_accuracy: 0.5104\n",
            "Epoch 5/20\n",
            "40/40 [==============================] - 56s 1s/step - loss: 0.6918 - sparse_categorical_accuracy: 0.5217 - val_loss: 0.6926 - val_sparse_categorical_accuracy: 0.5014\n",
            "Epoch 6/20\n",
            "40/40 [==============================] - 59s 1s/step - loss: 0.6910 - sparse_categorical_accuracy: 0.5229 - val_loss: 0.6922 - val_sparse_categorical_accuracy: 0.5160\n",
            "Epoch 7/20\n",
            "40/40 [==============================] - 57s 1s/step - loss: 0.6891 - sparse_categorical_accuracy: 0.5204 - val_loss: 0.6888 - val_sparse_categorical_accuracy: 0.5226\n",
            "Epoch 8/20\n",
            "40/40 [==============================] - 55s 1s/step - loss: 0.6322 - sparse_categorical_accuracy: 0.6323 - val_loss: 0.5602 - val_sparse_categorical_accuracy: 0.7290\n",
            "Epoch 9/20\n",
            "40/40 [==============================] - 57s 1s/step - loss: 0.4845 - sparse_categorical_accuracy: 0.7941 - val_loss: 0.4232 - val_sparse_categorical_accuracy: 0.8342\n",
            "Epoch 10/20\n",
            "40/40 [==============================] - 61s 2s/step - loss: 0.3815 - sparse_categorical_accuracy: 0.8529 - val_loss: 0.3794 - val_sparse_categorical_accuracy: 0.8468\n",
            "Epoch 11/20\n",
            "40/40 [==============================] - 56s 1s/step - loss: 0.3207 - sparse_categorical_accuracy: 0.8787 - val_loss: 0.3406 - val_sparse_categorical_accuracy: 0.8578\n",
            "Epoch 12/20\n",
            "40/40 [==============================] - 63s 2s/step - loss: 0.2614 - sparse_categorical_accuracy: 0.9004 - val_loss: 0.3345 - val_sparse_categorical_accuracy: 0.8668\n",
            "Epoch 13/20\n",
            "40/40 [==============================] - 56s 1s/step - loss: 0.2307 - sparse_categorical_accuracy: 0.9161 - val_loss: 0.3092 - val_sparse_categorical_accuracy: 0.8740\n",
            "Epoch 14/20\n",
            "40/40 [==============================] - 58s 1s/step - loss: 0.2029 - sparse_categorical_accuracy: 0.9244 - val_loss: 0.2979 - val_sparse_categorical_accuracy: 0.8816\n",
            "Epoch 15/20\n",
            "40/40 [==============================] - 55s 1s/step - loss: 0.1806 - sparse_categorical_accuracy: 0.9369 - val_loss: 0.3200 - val_sparse_categorical_accuracy: 0.8776\n",
            "Epoch 16/20\n",
            "40/40 [==============================] - 55s 1s/step - loss: 0.1669 - sparse_categorical_accuracy: 0.9398 - val_loss: 0.3203 - val_sparse_categorical_accuracy: 0.8816\n",
            "Epoch 17/20\n",
            "40/40 [==============================] - 58s 1s/step - loss: 0.1485 - sparse_categorical_accuracy: 0.9481 - val_loss: 0.3007 - val_sparse_categorical_accuracy: 0.8862\n",
            "Epoch 18/20\n",
            "40/40 [==============================] - 57s 1s/step - loss: 0.1336 - sparse_categorical_accuracy: 0.9531 - val_loss: 0.3390 - val_sparse_categorical_accuracy: 0.8846\n",
            "Epoch 19/20\n",
            "40/40 [==============================] - 60s 1s/step - loss: 0.1264 - sparse_categorical_accuracy: 0.9582 - val_loss: 0.3135 - val_sparse_categorical_accuracy: 0.8822\n",
            "Epoch 20/20\n",
            "40/40 [==============================] - 58s 1s/step - loss: 0.1131 - sparse_categorical_accuracy: 0.9631 - val_loss: 0.3076 - val_sparse_categorical_accuracy: 0.8848\n"
          ]
        }
      ],
      "source": [
        "history = model.fit(\n",
        "    x_train,\n",
        "    y_train,\n",
        "    epochs=20,\n",
        "    batch_size=512,\n",
        "    validation_split=0.2,\n",
        "    verbose=1,\n",
        ")\n",
        "#Treinando o modelo usando os dados de treinamento."
      ]
    },
    {
      "cell_type": "markdown",
      "metadata": {
        "id": "DWvl-nkvry5u"
      },
      "source": [
        "## Evaluate modelo Keras"
      ]
    },
    {
      "cell_type": "code",
      "execution_count": 78,
      "metadata": {
        "colab": {
          "base_uri": "https://localhost:8080/"
        },
        "id": "0hHe2-9Yry5u",
        "outputId": "4d50c578-976b-460e-dfdd-e72c89907255"
      },
      "outputs": [
        {
          "output_type": "stream",
          "name": "stdout",
          "text": [
            "782/782 [==============================] - 31s 40ms/step - loss: 0.3607 - sparse_categorical_accuracy: 0.8578\n"
          ]
        },
        {
          "output_type": "execute_result",
          "data": {
            "text/plain": [
              "[0.3606754243373871, 0.8578400015830994]"
            ]
          },
          "metadata": {},
          "execution_count": 78
        }
      ],
      "source": [
        "model.evaluate(x_test, y_test)\n",
        "#Avalia o desempenho do modelo"
      ]
    },
    {
      "cell_type": "markdown",
      "metadata": {
        "id": "JZ3ixXbQry5u"
      },
      "source": [
        "## Predict modelo Keras"
      ]
    },
    {
      "cell_type": "code",
      "execution_count": 92,
      "metadata": {
        "colab": {
          "base_uri": "https://localhost:8080/",
          "height": 430
        },
        "id": "BTsQ8Vtkry5u",
        "outputId": "62de5955-9a8b-4968-8e54-84bc41eb5ad1"
      },
      "outputs": [
        {
          "output_type": "display_data",
          "data": {
            "text/plain": [
              "<Figure size 640x480 with 1 Axes>"
            ],
            "image/png": "[encoded data removed]"
          },
          "metadata": {}
        }
      ],
      "source": [
        "plt.plot(history.history[\"loss\"], label=\"loss\")\n",
        "#Plota a perda do modelo nos dados de treinamento em cada época.\n",
        "plt.plot(history.history[\"val_loss\"], label=\"val_loss\")\n",
        "#Plota a perda do modelo nos dados de validação em cada época.\n",
        "plt.legend()\n",
        "plt.show()"
      ]
    },
    {
      "cell_type": "code",
      "execution_count": 93,
      "metadata": {
        "colab": {
          "base_uri": "https://localhost:8080/",
          "height": 430
        },
        "id": "yOfjGcj8ry5u",
        "outputId": "2a60ec03-37fd-4eaf-8091-7fa86ec29dda"
      },
      "outputs": [
        {
          "output_type": "display_data",
          "data": {
            "text/plain": [
              "<Figure size 640x480 with 1 Axes>"
            ],
            "image/png": "[encoded data removed]"
          },
          "metadata": {}
        }
      ],
      "source": [
        "plt.plot(history.history[\"sparse_categorical_accuracy\"], label=\"accuracy\")\n",
        "#Plota a precisão do modelo nos dados de treinamento em cada época.\n",
        "plt.plot(history.history[\"val_sparse_categorical_accuracy\"], label=\"val_accuracy\")\n",
        "#Plota a precisão do modelo nos dados de validação em cada época.\n",
        "plt.legend()\n",
        "plt.show()"
      ]
    },
    {
      "cell_type": "code",
      "execution_count": 94,
      "metadata": {
        "colab": {
          "base_uri": "https://localhost:8080/"
        },
        "id": "xxLJ6dokry5v",
        "outputId": "d8662942-dfe0-46b8-e239-6bf9a55ca9b1"
      },
      "outputs": [
        {
          "output_type": "stream",
          "name": "stdout",
          "text": [
            "Label:  0\n",
            "Prediction (sigmoid):  [0.90925366 0.15894137]\n",
            "Prediction:  0\n",
            "\n",
            "Label:  1\n",
            "Prediction (sigmoid):  [0.05817627 0.896301  ]\n",
            "Prediction:  1\n",
            "\n",
            "Label:  1\n",
            "Prediction (sigmoid):  [0.07284889 0.87681985]\n",
            "Prediction:  1\n",
            "\n",
            "Label:  0\n",
            "Prediction (sigmoid):  [0.67362046 0.36813578]\n",
            "Prediction:  0\n",
            "\n",
            "Label:  1\n",
            "Prediction (sigmoid):  [0.05359763 0.9018871 ]\n",
            "Prediction:  1\n",
            "\n",
            "Label:  1\n",
            "Prediction (sigmoid):  [0.17822053 0.76681894]\n",
            "Prediction:  1\n",
            "\n",
            "Label:  1\n",
            "Prediction (sigmoid):  [0.42067075 0.5601768 ]\n",
            "Prediction:  1\n",
            "\n",
            "Label:  0\n",
            "Prediction (sigmoid):  [0.95012516 0.10692701]\n",
            "Prediction:  0\n",
            "\n",
            "Label:  0\n",
            "Prediction (sigmoid):  [0.05447364 0.9007219 ]\n",
            "Prediction:  1\n",
            "\n",
            "Label:  1\n",
            "Prediction (sigmoid):  [0.44255218 0.5449712 ]\n",
            "Prediction:  1\n",
            "\n"
          ]
        }
      ],
      "source": [
        "for i in range(10):\n",
        "    #Loop \"for\" que itera sobre as primeiras 10 revisões no conjunto de teste.\n",
        "    print(\"Label: \", y_test[i])\n",
        "    #Imprime o rótulo verdadeiro da i-ésima revisão no conjunto de teste. O rótulo é o sentimento associado à revisão (positivo ou negativo).\n",
        "    print(\"Prediction (sigmoid): \", model.predict(np.expand_dims(x_test[i], axis=0), verbose=0).flatten())\n",
        "    #Faz uma previsão para a i-ésima revisão no conjunto de teste.\n",
        "    print(\"Prediction: \", np.argmax(model.predict(np.expand_dims(x_test[i], axis=0), verbose=0)))\n",
        "    #Imprime a classe prevista pelo modelo para a i-ésima revisão.\n",
        "    print()"
      ]
    },
    {
      "cell_type": "code",
      "execution_count": 95,
      "metadata": {
        "colab": {
          "base_uri": "https://localhost:8080/"
        },
        "id": "0p6_J9r3ry5v",
        "outputId": "1cf7b927-a4a1-48ea-dff1-cd9c4743567d"
      },
      "outputs": [
        {
          "output_type": "stream",
          "name": "stdout",
          "text": [
            "<START> i'm absolutely disgusted this movie isn't being sold all who love this\n",
            "movie should email disney and increase the demand for it they'd eventually have\n",
            "to sell it then i'd buy copies for everybody i know everything and everybody in\n",
            "this movie did a good job and i haven't figured out why disney hasn't put this\n",
            "movie on dvd or on vhs in rental stores at least i haven't seen any copies this\n",
            "is a wicked good movie and should be seen by all the kids in the new generation\n",
            "don't get to see it and i think they should it should at least be put back on\n",
            "the channel this movie doesn't deserve a cheap download it deserves the real\n",
            "thing i'm them now this movie will be on dvd <PAD> <PAD> <PAD> <PAD> <PAD> <PAD>\n",
            "<PAD> <PAD> <PAD> <PAD> <PAD> <PAD> <PAD> <PAD> <PAD> <PAD> <PAD> <PAD> <PAD>\n",
            "<PAD> <PAD> <PAD> <PAD> <PAD> <PAD> <PAD> <PAD> <PAD> <PAD> <PAD> <PAD> <PAD>\n",
            "<PAD> <PAD> <PAD> <PAD> <PAD> <PAD> <PAD> <PAD> <PAD> <PAD> <PAD> <PAD> <PAD>\n",
            "<PAD> <PAD> <PAD> <PAD> <PAD> <PAD> <PAD> <PAD> <PAD> <PAD> <PAD> <PAD> <PAD>\n",
            "<PAD> <PAD> <PAD> <PAD> <PAD> <PAD> <PAD> <PAD> <PAD> <PAD> <PAD> <PAD> <PAD>\n",
            "<PAD> <PAD> <PAD> <PAD> <PAD> <PAD> <PAD> <PAD> <PAD> <PAD> <PAD> <PAD> <PAD>\n",
            "<PAD> <PAD> <PAD> <PAD> <PAD> <PAD> <PAD> <PAD> <PAD> <PAD> <PAD> <PAD> <PAD>\n",
            "<PAD> <PAD> <PAD> <PAD> <PAD> <PAD> <PAD> <PAD> <PAD> <PAD> <PAD> <PAD> <PAD>\n",
            "<PAD> <PAD> <PAD> <PAD> <PAD> <PAD> <PAD> <PAD> <PAD> <PAD> <PAD> <PAD> <PAD>\n",
            "<PAD>\n"
          ]
        }
      ],
      "source": [
        "print_review(decode_review(x_test[5], word_index), width=80)\n",
        "#Esta função está decodificando a sexta revisão (índice 5) no conjunto de teste. As revisões são codificadas como sequências de números, onde cada número representa uma palavra específica."
      ]
    },
    {
      "cell_type": "code",
      "execution_count": 96,
      "metadata": {
        "id": "3Qanmp0mry5v"
      },
      "outputs": [],
      "source": [
        "review_good = \"The movie was great! The animation and the graphics were out of this world. I would recommend this movie.\"\n",
        "review_bad = \"The movie was terrible. The animation was poor and the graphics were awful. I would not recommend this movie.\"\n",
        "#Criadas duas variaveis de avaliações (boa e ruim)."
      ]
    },
    {
      "cell_type": "code",
      "execution_count": 97,
      "metadata": {
        "colab": {
          "base_uri": "https://localhost:8080/"
        },
        "id": "TbUqDhCKry5v",
        "outputId": "c8769a44-7a4a-4b7d-d022-e5459bf4003c"
      },
      "outputs": [
        {
          "output_type": "stream",
          "name": "stdout",
          "text": [
            "The movie was great! The animation and the\n",
            "graphics were out of this world. I would recommend\n",
            "this movie.\n"
          ]
        }
      ],
      "source": [
        "print_review(review_good)"
      ]
    },
    {
      "cell_type": "code",
      "execution_count": 98,
      "metadata": {
        "id": "7-Iy0qv0ry5v",
        "outputId": "7221ce36-ead7-4c2e-8053-5d0328f3702b",
        "colab": {
          "base_uri": "https://localhost:8080/"
        }
      },
      "outputs": [
        {
          "output_type": "stream",
          "name": "stdout",
          "text": [
            "The movie was terrible. The animation was poor and\n",
            "the graphics were awful. I would not recommend\n",
            "this movie.\n"
          ]
        }
      ],
      "source": [
        "print_review(review_bad)"
      ]
    },
    {
      "cell_type": "code",
      "execution_count": 99,
      "metadata": {
        "id": "Jp7HmkvK2RB6"
      },
      "outputs": [],
      "source": [
        "def encode_review(text, index):\n",
        "    import string\n",
        "    text = text.translate(str.maketrans(\"\", \"\", string.punctuation)).lower()\n",
        "    #Remove toda a pontuação do texto e converte todas as letras para minúsculas.\n",
        "    return [index.get(word, 2) for word in text.split(\" \")]\n",
        "    #Divide o texto em palavras usando espaços como delimitadores e converte cada palavra em um número usando o índice fornecido. Se uma palavra não está no índice, ela é convertida para o número 2."
      ]
    },
    {
      "cell_type": "code",
      "execution_count": 100,
      "metadata": {
        "colab": {
          "base_uri": "https://localhost:8080/"
        },
        "id": "DcESoHL8ry5v",
        "outputId": "c64250ed-f1da-4d45-ee6c-f1c635126212"
      },
      "outputs": [
        {
          "output_type": "execute_result",
          "data": {
            "text/plain": [
              "[4, 20, 16, 87, 4, 748, 5, 4, 2876, 71, 46, 7, 14, 182, 13, 62, 386, 14, 20]"
            ]
          },
          "metadata": {},
          "execution_count": 100
        }
      ],
      "source": [
        "encode_review(review_good, word_index)"
      ]
    },
    {
      "cell_type": "code",
      "execution_count": 101,
      "metadata": {
        "colab": {
          "base_uri": "https://localhost:8080/",
          "height": 35
        },
        "id": "AV_IgxzTry5w",
        "outputId": "15f86c12-0547-4230-e461-499e7ddad23b"
      },
      "outputs": [
        {
          "output_type": "execute_result",
          "data": {
            "text/plain": [
              "'the movie was great the animation and the graphics were out of this world i would recommend this movie'"
            ],
            "application/vnd.google.colaboratory.intrinsic+json": {
              "type": "string"
            }
          },
          "metadata": {},
          "execution_count": 101
        }
      ],
      "source": [
        "decode_review(encode_review(review_good, word_index), word_index)\n",
        "#Primeiro codifica a revisão positiva (review_good) em uma sequência de números usando a função encode_review, e depois decodifica essa sequência de volta em texto usando a função decode_review."
      ]
    },
    {
      "cell_type": "code",
      "execution_count": 102,
      "metadata": {
        "id": "D2Ss2U_qry5w"
      },
      "outputs": [],
      "source": [
        "review_good = keras.utils.pad_sequences(\n",
        "    #Esta função transforma uma lista de sequências (listas de números inteiros) em uma matriz 2D.\n",
        "    [encode_review(review_good, word_index)],\n",
        "    #Cada revisão é uma lista de números, onde cada número representa uma palavra específica.\n",
        "    value=word_index[\"<PAD>\"],\n",
        "    #valor usado para preencher as sequências. Usando o número que representa a palavra especial <PAD>.\n",
        "    padding=\"post\",\n",
        "    #Caso uma sequência for mais curta que o comprimento limite, os valores de preenchimento serão adicionados no final da sequência.\n",
        "    truncating=\"post\",\n",
        "    #Se uma sequência for mais longa que o comprimento limite, os valores extras no final da sequência serão removidos.\n",
        "    maxlen=256\n",
        "    #Comprimento das sequências, todas as sequências terão este comprimento após o preenchimento/truncamento.\n",
        ")\n",
        "\n",
        "review_bad = keras.utils.pad_sequences(\n",
        "    [encode_review(review_bad, word_index)],\n",
        "    value=word_index[\"<PAD>\"],\n",
        "    padding=\"post\",\n",
        "    truncating=\"post\",\n",
        "    maxlen=256\n",
        ")"
      ]
    },
    {
      "cell_type": "code",
      "execution_count": 103,
      "metadata": {
        "colab": {
          "base_uri": "https://localhost:8080/"
        },
        "id": "CHlnI2aEry5w",
        "outputId": "2620e592-d130-494e-a02b-f60ca097dd27"
      },
      "outputs": [
        {
          "output_type": "execute_result",
          "data": {
            "text/plain": [
              "array([[   4,   20,   16,   87,    4,  748,    5,    4, 2876,   71,   46,\n",
              "           7,   14,  182,   13,   62,  386,   14,   20,    0,    0,    0,\n",
              "           0,    0,    0,    0,    0,    0,    0,    0,    0,    0,    0,\n",
              "           0,    0,    0,    0,    0,    0,    0,    0,    0,    0,    0,\n",
              "           0,    0,    0,    0,    0,    0,    0,    0,    0,    0,    0,\n",
              "           0,    0,    0,    0,    0,    0,    0,    0,    0,    0,    0,\n",
              "           0,    0,    0,    0,    0,    0,    0,    0,    0,    0,    0,\n",
              "           0,    0,    0,    0,    0,    0,    0,    0,    0,    0,    0,\n",
              "           0,    0,    0,    0,    0,    0,    0,    0,    0,    0,    0,\n",
              "           0,    0,    0,    0,    0,    0,    0,    0,    0,    0,    0,\n",
              "           0,    0,    0,    0,    0,    0,    0,    0,    0,    0,    0,\n",
              "           0,    0,    0,    0,    0,    0,    0,    0,    0,    0,    0,\n",
              "           0,    0,    0,    0,    0,    0,    0,    0,    0,    0,    0,\n",
              "           0,    0,    0,    0,    0,    0,    0,    0,    0,    0,    0,\n",
              "           0,    0,    0,    0,    0,    0,    0,    0,    0,    0,    0,\n",
              "           0,    0,    0,    0,    0,    0,    0,    0,    0,    0,    0,\n",
              "           0,    0,    0,    0,    0,    0,    0,    0,    0,    0,    0,\n",
              "           0,    0,    0,    0,    0,    0,    0,    0,    0,    0,    0,\n",
              "           0,    0,    0,    0,    0,    0,    0,    0,    0,    0,    0,\n",
              "           0,    0,    0,    0,    0,    0,    0,    0,    0,    0,    0,\n",
              "           0,    0,    0,    0,    0,    0,    0,    0,    0,    0,    0,\n",
              "           0,    0,    0,    0,    0,    0,    0,    0,    0,    0,    0,\n",
              "           0,    0,    0,    0,    0,    0,    0,    0,    0,    0,    0,\n",
              "           0,    0,    0]], dtype=int32)"
            ]
          },
          "metadata": {},
          "execution_count": 103
        }
      ],
      "source": [
        "review_good"
      ]
    },
    {
      "cell_type": "code",
      "execution_count": null,
      "metadata": {
        "colab": {
          "base_uri": "https://localhost:8080/"
        },
        "id": "0eXocYziry5w",
        "outputId": "18cf5f77-26cf-4920-bd7c-af196a5758f6"
      },
      "outputs": [
        {
          "output_type": "execute_result",
          "data": {
            "text/plain": [
              "array([[   4,   20,   16,  394,    4,  748,   16,  338,    5,    4, 2876,\n",
              "          71,  373,   13,   62,   24,  386,   14,   20,    0,    0,    0,\n",
              "           0,    0,    0,    0,    0,    0,    0,    0,    0,    0,    0,\n",
              "           0,    0,    0,    0,    0,    0,    0,    0,    0,    0,    0,\n",
              "           0,    0,    0,    0,    0,    0,    0,    0,    0,    0,    0,\n",
              "           0,    0,    0,    0,    0,    0,    0,    0,    0,    0,    0,\n",
              "           0,    0,    0,    0,    0,    0,    0,    0,    0,    0,    0,\n",
              "           0,    0,    0,    0,    0,    0,    0,    0,    0,    0,    0,\n",
              "           0,    0,    0,    0,    0,    0,    0,    0,    0,    0,    0,\n",
              "           0,    0,    0,    0,    0,    0,    0,    0,    0,    0,    0,\n",
              "           0,    0,    0,    0,    0,    0,    0,    0,    0,    0,    0,\n",
              "           0,    0,    0,    0,    0,    0,    0,    0,    0,    0,    0,\n",
              "           0,    0,    0,    0,    0,    0,    0,    0,    0,    0,    0,\n",
              "           0,    0,    0,    0,    0,    0,    0,    0,    0,    0,    0,\n",
              "           0,    0,    0,    0,    0,    0,    0,    0,    0,    0,    0,\n",
              "           0,    0,    0,    0,    0,    0,    0,    0,    0,    0,    0,\n",
              "           0,    0,    0,    0,    0,    0,    0,    0,    0,    0,    0,\n",
              "           0,    0,    0,    0,    0,    0,    0,    0,    0,    0,    0,\n",
              "           0,    0,    0,    0,    0,    0,    0,    0,    0,    0,    0,\n",
              "           0,    0,    0,    0,    0,    0,    0,    0,    0,    0,    0,\n",
              "           0,    0,    0,    0,    0,    0,    0,    0,    0,    0,    0,\n",
              "           0,    0,    0,    0,    0,    0,    0,    0,    0,    0,    0,\n",
              "           0,    0,    0,    0,    0,    0,    0,    0,    0,    0,    0,\n",
              "           0,    0,    0]], dtype=int32)"
            ]
          },
          "metadata": {},
          "execution_count": 45
        }
      ],
      "source": [
        "review_bad"
      ]
    },
    {
      "cell_type": "code",
      "execution_count": null,
      "metadata": {
        "colab": {
          "base_uri": "https://localhost:8080/"
        },
        "id": "-wtNv5ipry5w",
        "outputId": "480de14e-0ae3-4655-cfc5-9f1b7fa1fe1f"
      },
      "outputs": [
        {
          "output_type": "stream",
          "name": "stdout",
          "text": [
            "1/1 [==============================] - 0s 60ms/step\n"
          ]
        },
        {
          "output_type": "execute_result",
          "data": {
            "text/plain": [
              "array([[0.17457633, 0.770273  ]], dtype=float32)"
            ]
          },
          "metadata": {},
          "execution_count": 59
        }
      ],
      "source": [
        "model.predict(review_good)"
      ]
    },
    {
      "cell_type": "code",
      "execution_count": null,
      "metadata": {
        "colab": {
          "base_uri": "https://localhost:8080/"
        },
        "id": "qaqhFs3try5w",
        "outputId": "a0b4c711-c69e-496d-a1e7-28b830f6763d"
      },
      "outputs": [
        {
          "output_type": "stream",
          "name": "stdout",
          "text": [
            "1/1 [==============================] - 0s 63ms/step\n"
          ]
        },
        {
          "output_type": "execute_result",
          "data": {
            "text/plain": [
              "array([[0.95967066, 0.09328773]], dtype=float32)"
            ]
          },
          "metadata": {},
          "execution_count": 60
        }
      ],
      "source": [
        "model.predict(review_bad)"
      ]
    }
  ],
  "metadata": {
    "kernelspec": {
      "display_name": "Python 3 (ipykernel)",
      "language": "python",
      "name": "python3"
    },
    "language_info": {
      "codemirror_mode": {
        "name": "ipython",
        "version": 3
      },
      "file_extension": ".py",
      "mimetype": "text/x-python",
      "name": "python",
      "nbconvert_exporter": "python",
      "pygments_lexer": "ipython3",
      "version": "3.8.10"
    },
    "colab": {
      "provenance": [],
      "include_colab_link": true
    }
  },
  "nbformat": 4,
  "nbformat_minor": 0
}