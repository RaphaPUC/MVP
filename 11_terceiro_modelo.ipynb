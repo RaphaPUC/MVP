{
  "cells": [
    {
      "cell_type": "markdown",
      "metadata": {
        "id": "view-in-github",
        "colab_type": "text"
      },
      "source": [
        "<a href=\"https://colab.research.google.com/github/RaphaPUC/MVP/blob/main/11_terceiro_modelo.ipynb\" target=\"_parent\"><img src=\"https://colab.research.google.com/assets/colab-badge.svg\" alt=\"Open In Colab\"/></a>"
      ]
    },
    {
      "cell_type": "markdown",
      "metadata": {
        "id": "ejqtR-yv52wW"
      },
      "source": [
        "# Análise de sentimento - base IMDB"
      ]
    },
    {
      "cell_type": "markdown",
      "metadata": {
        "id": "crJpuBlB52wX"
      },
      "source": [
        "Etapas:\n",
        "\n",
        "- Carregar dados\n",
        "- Definir modelo Keras\n",
        "- Compilar modelo Keras\n",
        "- Ajustar (fit) modelo Keras\n",
        "- Avaliar (evalute) modelo Keras\n",
        "- Faça previsões (predict)"
      ]
    },
    {
      "cell_type": "markdown",
      "metadata": {
        "id": "MpjFviJo52wX"
      },
      "source": [
        "## Carregar dados"
      ]
    },
    {
      "cell_type": "code",
      "execution_count": null,
      "metadata": {
        "id": "3ndItpMZ52wX"
      },
      "outputs": [],
      "source": [
        "import os\n",
        "\n",
        "os.environ[\"TF_CPP_MIN_LOG_LEVEL\"] = \"2\""
      ]
    },
    {
      "cell_type": "code",
      "execution_count": null,
      "metadata": {
        "id": "2utrfFHs52wX"
      },
      "outputs": [],
      "source": [
        "import matplotlib.pyplot as plt\n",
        "import numpy as np\n",
        "import tensorflow as tf\n",
        "from tensorflow import keras"
      ]
    },
    {
      "cell_type": "code",
      "execution_count": null,
      "metadata": {
        "colab": {
          "base_uri": "https://localhost:8080/"
        },
        "id": "P-w7U5lw52wX",
        "outputId": "91d9a3ad-16df-4b13-d968-78d4c0ac48f1"
      },
      "outputs": [
        {
          "output_type": "stream",
          "name": "stdout",
          "text": [
            "Downloading data from https://storage.googleapis.com/tensorflow/tf-keras-datasets/imdb.npz\n",
            "17464789/17464789 [==============================] - 0s 0us/step\n"
          ]
        }
      ],
      "source": [
        "data = keras.datasets.imdb\n",
        "\n",
        "(x_train, y_train), (x_test, y_test) = data.load_data()"
      ]
    },
    {
      "cell_type": "code",
      "execution_count": null,
      "metadata": {
        "colab": {
          "base_uri": "https://localhost:8080/"
        },
        "id": "WGrCIixf52wY",
        "outputId": "34a1b1ec-56b0-4aba-f98b-66eb448d8e3b"
      },
      "outputs": [
        {
          "output_type": "execute_result",
          "data": {
            "text/plain": [
              "((25000,), (25000,))"
            ]
          },
          "metadata": {},
          "execution_count": 4
        }
      ],
      "source": [
        "x_train.shape, y_train.shape"
      ]
    },
    {
      "cell_type": "code",
      "execution_count": null,
      "metadata": {
        "colab": {
          "base_uri": "https://localhost:8080/"
        },
        "id": "mRUMNEsD52wY",
        "outputId": "3434334f-3a65-4ab7-b0e8-57b81f1bb2fe"
      },
      "outputs": [
        {
          "output_type": "execute_result",
          "data": {
            "text/plain": [
              "((25000,), (25000,))"
            ]
          },
          "metadata": {},
          "execution_count": 5
        }
      ],
      "source": [
        "x_test.shape, y_test.shape"
      ]
    },
    {
      "cell_type": "code",
      "execution_count": null,
      "metadata": {
        "colab": {
          "base_uri": "https://localhost:8080/"
        },
        "id": "vm2oANyf52wY",
        "outputId": "41e98af2-d3ee-411b-d12e-f1761e521f30"
      },
      "outputs": [
        {
          "output_type": "execute_result",
          "data": {
            "text/plain": [
              "[1,\n",
              " 14,\n",
              " 22,\n",
              " 16,\n",
              " 43,\n",
              " 530,\n",
              " 973,\n",
              " 1622,\n",
              " 1385,\n",
              " 65,\n",
              " 458,\n",
              " 4468,\n",
              " 66,\n",
              " 3941,\n",
              " 4,\n",
              " 173,\n",
              " 36,\n",
              " 256,\n",
              " 5,\n",
              " 25,\n",
              " 100,\n",
              " 43,\n",
              " 838,\n",
              " 112,\n",
              " 50,\n",
              " 670,\n",
              " 22665,\n",
              " 9,\n",
              " 35,\n",
              " 480,\n",
              " 284,\n",
              " 5,\n",
              " 150,\n",
              " 4,\n",
              " 172,\n",
              " 112,\n",
              " 167,\n",
              " 21631,\n",
              " 336,\n",
              " 385,\n",
              " 39,\n",
              " 4,\n",
              " 172,\n",
              " 4536,\n",
              " 1111,\n",
              " 17,\n",
              " 546,\n",
              " 38,\n",
              " 13,\n",
              " 447,\n",
              " 4,\n",
              " 192,\n",
              " 50,\n",
              " 16,\n",
              " 6,\n",
              " 147,\n",
              " 2025,\n",
              " 19,\n",
              " 14,\n",
              " 22,\n",
              " 4,\n",
              " 1920,\n",
              " 4613,\n",
              " 469,\n",
              " 4,\n",
              " 22,\n",
              " 71,\n",
              " 87,\n",
              " 12,\n",
              " 16,\n",
              " 43,\n",
              " 530,\n",
              " 38,\n",
              " 76,\n",
              " 15,\n",
              " 13,\n",
              " 1247,\n",
              " 4,\n",
              " 22,\n",
              " 17,\n",
              " 515,\n",
              " 17,\n",
              " 12,\n",
              " 16,\n",
              " 626,\n",
              " 18,\n",
              " 19193,\n",
              " 5,\n",
              " 62,\n",
              " 386,\n",
              " 12,\n",
              " 8,\n",
              " 316,\n",
              " 8,\n",
              " 106,\n",
              " 5,\n",
              " 4,\n",
              " 2223,\n",
              " 5244,\n",
              " 16,\n",
              " 480,\n",
              " 66,\n",
              " 3785,\n",
              " 33,\n",
              " 4,\n",
              " 130,\n",
              " 12,\n",
              " 16,\n",
              " 38,\n",
              " 619,\n",
              " 5,\n",
              " 25,\n",
              " 124,\n",
              " 51,\n",
              " 36,\n",
              " 135,\n",
              " 48,\n",
              " 25,\n",
              " 1415,\n",
              " 33,\n",
              " 6,\n",
              " 22,\n",
              " 12,\n",
              " 215,\n",
              " 28,\n",
              " 77,\n",
              " 52,\n",
              " 5,\n",
              " 14,\n",
              " 407,\n",
              " 16,\n",
              " 82,\n",
              " 10311,\n",
              " 8,\n",
              " 4,\n",
              " 107,\n",
              " 117,\n",
              " 5952,\n",
              " 15,\n",
              " 256,\n",
              " 4,\n",
              " 31050,\n",
              " 7,\n",
              " 3766,\n",
              " 5,\n",
              " 723,\n",
              " 36,\n",
              " 71,\n",
              " 43,\n",
              " 530,\n",
              " 476,\n",
              " 26,\n",
              " 400,\n",
              " 317,\n",
              " 46,\n",
              " 7,\n",
              " 4,\n",
              " 12118,\n",
              " 1029,\n",
              " 13,\n",
              " 104,\n",
              " 88,\n",
              " 4,\n",
              " 381,\n",
              " 15,\n",
              " 297,\n",
              " 98,\n",
              " 32,\n",
              " 2071,\n",
              " 56,\n",
              " 26,\n",
              " 141,\n",
              " 6,\n",
              " 194,\n",
              " 7486,\n",
              " 18,\n",
              " 4,\n",
              " 226,\n",
              " 22,\n",
              " 21,\n",
              " 134,\n",
              " 476,\n",
              " 26,\n",
              " 480,\n",
              " 5,\n",
              " 144,\n",
              " 30,\n",
              " 5535,\n",
              " 18,\n",
              " 51,\n",
              " 36,\n",
              " 28,\n",
              " 224,\n",
              " 92,\n",
              " 25,\n",
              " 104,\n",
              " 4,\n",
              " 226,\n",
              " 65,\n",
              " 16,\n",
              " 38,\n",
              " 1334,\n",
              " 88,\n",
              " 12,\n",
              " 16,\n",
              " 283,\n",
              " 5,\n",
              " 16,\n",
              " 4472,\n",
              " 113,\n",
              " 103,\n",
              " 32,\n",
              " 15,\n",
              " 16,\n",
              " 5345,\n",
              " 19,\n",
              " 178,\n",
              " 32]"
            ]
          },
          "metadata": {},
          "execution_count": 6
        }
      ],
      "source": [
        "x_train[0]"
      ]
    },
    {
      "cell_type": "code",
      "execution_count": null,
      "metadata": {
        "colab": {
          "base_uri": "https://localhost:8080/"
        },
        "id": "vSKIX85n52wY",
        "outputId": "1f438eef-1001-4ffd-ed74-cc77d8249e63"
      },
      "outputs": [
        {
          "output_type": "execute_result",
          "data": {
            "text/plain": [
              "218"
            ]
          },
          "metadata": {},
          "execution_count": 7
        }
      ],
      "source": [
        "len(x_train[0])"
      ]
    },
    {
      "cell_type": "code",
      "execution_count": null,
      "metadata": {
        "colab": {
          "base_uri": "https://localhost:8080/"
        },
        "id": "F5I7pLke52wY",
        "outputId": "4ad05088-2afb-487b-aba0-5c5138c5a942"
      },
      "outputs": [
        {
          "output_type": "execute_result",
          "data": {
            "text/plain": [
              "array([1, 0, 0, 1, 0])"
            ]
          },
          "metadata": {},
          "execution_count": 8
        }
      ],
      "source": [
        "y_train[:5]"
      ]
    },
    {
      "cell_type": "code",
      "execution_count": null,
      "metadata": {
        "colab": {
          "base_uri": "https://localhost:8080/"
        },
        "id": "LW5D4mjp52wY",
        "outputId": "ad97bbd4-80c6-44d6-a326-b570babdce75"
      },
      "outputs": [
        {
          "output_type": "execute_result",
          "data": {
            "text/plain": [
              "(array([0, 1]), array([12500, 12500]))"
            ]
          },
          "metadata": {},
          "execution_count": 9
        }
      ],
      "source": [
        "np.unique(y_train, return_counts=True)"
      ]
    },
    {
      "cell_type": "code",
      "execution_count": null,
      "metadata": {
        "colab": {
          "base_uri": "https://localhost:8080/"
        },
        "id": "j6PwnTM752wY",
        "outputId": "3812caef-52b0-4632-987e-c697c826fa10"
      },
      "outputs": [
        {
          "output_type": "stream",
          "name": "stdout",
          "text": [
            "Downloading data from https://storage.googleapis.com/tensorflow/tf-keras-datasets/imdb_word_index.json\n",
            "1641221/1641221 [==============================] - 0s 0us/step\n"
          ]
        }
      ],
      "source": [
        "word_index = data.get_word_index()\n",
        "# word_index"
      ]
    },
    {
      "cell_type": "code",
      "execution_count": null,
      "metadata": {
        "colab": {
          "base_uri": "https://localhost:8080/"
        },
        "id": "SUZb1hKW52wZ",
        "outputId": "192f0031-d4dd-4fd3-e854-e18b17b95900"
      },
      "outputs": [
        {
          "output_type": "execute_result",
          "data": {
            "text/plain": [
              "88584"
            ]
          },
          "metadata": {},
          "execution_count": 11
        }
      ],
      "source": [
        "len(word_index)"
      ]
    },
    {
      "cell_type": "code",
      "execution_count": null,
      "metadata": {
        "colab": {
          "base_uri": "https://localhost:8080/"
        },
        "id": "qAkJvgbi52wZ",
        "outputId": "b5096491-61fc-4901-de2b-99c9c557aeb2"
      },
      "outputs": [
        {
          "output_type": "execute_result",
          "data": {
            "text/plain": [
              "1"
            ]
          },
          "metadata": {},
          "execution_count": 12
        }
      ],
      "source": [
        "word_index[\"the\"]"
      ]
    },
    {
      "cell_type": "code",
      "execution_count": null,
      "metadata": {
        "colab": {
          "base_uri": "https://localhost:8080/"
        },
        "id": "dZvdOTgC52wZ",
        "outputId": "9abbb08d-6dd5-4922-a124-afd3188a660c"
      },
      "outputs": [
        {
          "output_type": "stream",
          "name": "stdout",
          "text": [
            "the\n"
          ]
        }
      ],
      "source": [
        "for chave, valor in word_index.items():\n",
        "    if valor == 1:\n",
        "        print(chave)"
      ]
    },
    {
      "cell_type": "code",
      "execution_count": null,
      "metadata": {
        "colab": {
          "base_uri": "https://localhost:8080/"
        },
        "id": "IHdjtm6-52wZ",
        "outputId": "02715528-c0b1-4ba7-9158-a0127c09429e"
      },
      "outputs": [
        {
          "output_type": "stream",
          "name": "stdout",
          "text": [
            "218\n",
            "189\n",
            "141\n",
            "550\n",
            "147\n"
          ]
        }
      ],
      "source": [
        "for review in x_train[:5]:\n",
        "    print(len(review))"
      ]
    },
    {
      "cell_type": "markdown",
      "metadata": {
        "id": "JWsDgWAU52wZ"
      },
      "source": [
        "No contexto de processamento de linguagem natural e análise de dados de texto, como no projeto com o dataset do IMDB, um \"token\" refere-se a uma unidade individual de dados ou palavra. Na tokenização, o texto é dividido em tais unidades (tokens), que podem ser palavras, caracteres ou subpalavras. Este processo é fundamental para transformar o texto bruto em uma forma que os modelos de machine learning podem entender e processar. Por exemplo, uma frase é dividida em palavras ou partes menores, e cada uma dessas partes é tratada como um token único."
      ]
    },
    {
      "cell_type": "markdown",
      "metadata": {
        "id": "Xs_lOxNd52wZ"
      },
      "source": [
        "Considere a frase \"Aprendendo processamento de linguagem natural\". Na tokenização, esta frase seria dividida em tokens individuais. Cada palavra representa um token:\n",
        "\n",
        "- Token 1: \"Aprendendo\"\n",
        "- Token 2: \"processamento\"\n",
        "- Token 3: \"de\"\n",
        "- Token 4: \"linguagem\"\n",
        "- Token 5: \"natural\"\n",
        "\n",
        "Neste exemplo, a frase original é decomposta em palavras isoladas, cada uma considerada um token."
      ]
    },
    {
      "cell_type": "markdown",
      "metadata": {
        "id": "w5QP6oEI52wZ"
      },
      "source": [
        "Um exemplo onde um token não é necessariamente uma palavra pode ser encontrado na tokenização baseada em caracteres ou sílabas. Por exemplo, na frase \"Incrível\", a tokenização por sílabas resultaria nos tokens \"In\", \"crí\", \"vel\". Aqui, cada sílaba é tratada como um token distinto, ao invés de cada palavra inteira. Este tipo de tokenização pode ser útil em tarefas de processamento de linguagem natural que exigem uma análise mais detalhada do texto, como na compreensão de padrões fonéticos ou na análise de idiomas com estruturas de palavras complexas."
      ]
    },
    {
      "cell_type": "markdown",
      "metadata": {
        "id": "rbLv3Fhg52wZ"
      },
      "source": [
        "- PAD é o token usado para preenchimento. Nós preenchemos todas as sequências para o mesmo comprimento, que é o comprimento da sequência mais longa.\n",
        "- START é o token usado para marcar o início de uma sequência.\n",
        "- UNK é o token usado para marcar palavras desconhecidas (palavras que não estão no vocabulário).\n",
        "- UNUSED é o token usado para preencher as posições não utilizadas em uma sequência."
      ]
    },
    {
      "cell_type": "code",
      "execution_count": null,
      "metadata": {
        "id": "nf_eM_d452wZ"
      },
      "outputs": [],
      "source": [
        "word_index = {chave: (valor + 3) for chave, valor in word_index.items()}"
      ]
    },
    {
      "cell_type": "code",
      "execution_count": null,
      "metadata": {
        "id": "LzbHiUHN52wZ"
      },
      "outputs": [],
      "source": [
        "word_index[\"<PAD>\"] = 0\n",
        "word_index[\"<START>\"] = 1\n",
        "word_index[\"<UNK>\"] = 2\n",
        "word_index[\"<UNUSED>\"] = 3"
      ]
    },
    {
      "cell_type": "code",
      "execution_count": null,
      "metadata": {
        "colab": {
          "base_uri": "https://localhost:8080/"
        },
        "id": "FKdKVZFO52wa",
        "outputId": "96fcfa12-9476-437e-a654-4ccdb5a19cb1"
      },
      "outputs": [
        {
          "output_type": "stream",
          "name": "stdout",
          "text": [
            "<START>\n"
          ]
        }
      ],
      "source": [
        "for chave, valor in word_index.items():\n",
        "    if valor == 1:\n",
        "        print(chave)"
      ]
    },
    {
      "cell_type": "code",
      "execution_count": null,
      "metadata": {
        "id": "uLZojNgl52wa"
      },
      "outputs": [],
      "source": [
        "def decode_review(text, index):\n",
        "    reverse_index = {value: key for key, value in index.items()}\n",
        "    return \" \".join([reverse_index.get(value, \"<UNK>\") for value in text])"
      ]
    },
    {
      "cell_type": "code",
      "execution_count": null,
      "metadata": {
        "colab": {
          "base_uri": "https://localhost:8080/",
          "height": 105
        },
        "id": "fjHFi8mT52wa",
        "outputId": "a986306d-aede-4ba8-c5dd-38e2d17b7674"
      },
      "outputs": [
        {
          "output_type": "execute_result",
          "data": {
            "text/plain": [
              "\"<START> this film was just brilliant casting location scenery story direction everyone's really suited the part they played and you could just imagine being there robert redford's is an amazing actor and now the same being director norman's father came from the same scottish island as myself so i loved the fact there was a real connection with this film the witty remarks throughout the film were great it was just brilliant so much that i bought the film as soon as it was released for retail and would recommend it to everyone to watch and the fly fishing was amazing really cried at the end it was so sad and you know what they say if you cry at a film it must have been good and this definitely was also congratulations to the two little boy's that played the part's of norman and paul they were just brilliant children are often left out of the praising list i think because the stars that play them all grown up are such a big profile for the whole film but these children are amazing and should be praised for what they have done don't you think the whole story was so lovely because it was true and was someone's life after all that was shared with us all\""
            ],
            "application/vnd.google.colaboratory.intrinsic+json": {
              "type": "string"
            }
          },
          "metadata": {},
          "execution_count": 19
        }
      ],
      "source": [
        "decode_review(x_train[0], word_index)"
      ]
    },
    {
      "cell_type": "code",
      "execution_count": null,
      "metadata": {
        "id": "5cfUGAEZ52wa"
      },
      "outputs": [],
      "source": [
        "import textwrap\n",
        "\n",
        "\n",
        "def print_review(text, width=50):\n",
        "    wrapper = textwrap.TextWrapper(width=width)\n",
        "    print(wrapper.fill(text))"
      ]
    },
    {
      "cell_type": "code",
      "execution_count": null,
      "metadata": {
        "colab": {
          "base_uri": "https://localhost:8080/"
        },
        "id": "8-uI23EU52wa",
        "outputId": "826dccc2-28f4-4862-a6f4-9e464ec7aaf1"
      },
      "outputs": [
        {
          "output_type": "stream",
          "name": "stdout",
          "text": [
            "<START> this film was just brilliant casting\n",
            "location scenery story direction everyone's really\n",
            "suited the part they played and you could just\n",
            "imagine being there robert redford's is an amazing\n",
            "actor and now the same being director norman's\n",
            "father came from the same scottish island as\n",
            "myself so i loved the fact there was a real\n",
            "connection with this film the witty remarks\n",
            "throughout the film were great it was just\n",
            "brilliant so much that i bought the film as soon\n",
            "as it was released for retail and would recommend\n",
            "it to everyone to watch and the fly fishing was\n",
            "amazing really cried at the end it was so sad and\n",
            "you know what they say if you cry at a film it\n",
            "must have been good and this definitely was also\n",
            "congratulations to the two little boy's that\n",
            "played the part's of norman and paul they were\n",
            "just brilliant children are often left out of the\n",
            "praising list i think because the stars that play\n",
            "them all grown up are such a big profile for the\n",
            "whole film but these children are amazing and\n",
            "should be praised for what they have done don't\n",
            "you think the whole story was so lovely because it\n",
            "was true and was someone's life after all that was\n",
            "shared with us all\n"
          ]
        }
      ],
      "source": [
        "print_review(decode_review(x_train[0], word_index))"
      ]
    },
    {
      "cell_type": "markdown",
      "metadata": {
        "id": "7G4H27DF52wa"
      },
      "source": [
        "https://www.tensorflow.org/api_docs/python/tf/keras/utils/pad_sequences"
      ]
    },
    {
      "cell_type": "code",
      "execution_count": null,
      "metadata": {
        "colab": {
          "base_uri": "https://localhost:8080/"
        },
        "id": "pIEOessa52wa",
        "outputId": "bf03c5c6-d39f-489d-d13c-7f9bc6202a4f"
      },
      "outputs": [
        {
          "output_type": "stream",
          "name": "stdout",
          "text": [
            "<START> the scots excel at storytelling the\n",
            "traditional sort many years after the event i can\n",
            "still see in my mind's eye an elderly lady my\n",
            "friend's mother retelling the battle of culloden\n",
            "she makes the characters come alive her passion is\n",
            "that of an eye witness one to the events on the\n",
            "sodden heath a mile or so from where she lives br\n",
            "br of course it happened many years before she was\n",
            "born but you wouldn't guess from the way she tells\n",
            "it the same story is told in bars the length and\n",
            "breadth of scotland as i discussed it with a\n",
            "friend one night in mallaig a local cut in to give\n",
            "his version the discussion continued to closing\n",
            "time br br stories passed down like this become\n",
            "part of our being who doesn't remember the stories\n",
            "our parents told us when we were children they\n",
            "become our invisible world and as we grow older\n",
            "they maybe still serve as inspiration or as an\n",
            "emotional reservoir fact and fiction blend with\n",
            "aspiration role models warning stories archetypes\n",
            "magic and mystery br br my name is aonghas like my\n",
            "grandfather and his grandfather before him our\n",
            "protagonist introduces himself to us and also\n",
            "introduces the story that stretches back through\n",
            "generations it produces stories within stories\n",
            "stories that evoke the impenetrable wonder of\n",
            "scotland its rugged mountains shrouded in mists\n",
            "the stuff of legend yet seach'd is rooted in\n",
            "reality this is what gives it its special charm it\n",
            "has a rough beauty and authenticity tempered with\n",
            "some of the finest gaelic singing you will ever\n",
            "hear br br aonghas angus visits his grandfather in\n",
            "hospital shortly before his death he burns with\n",
            "frustration part of him yearns to be in the twenty\n",
            "first century to hang out in glasgow but he is\n",
            "raised on the western shores among a gaelic\n",
            "speaking community br br yet there is a deeper\n",
            "conflict within him he yearns to know the truth\n",
            "the truth behind his grandfather's ancient stories\n",
            "where does fiction end and he wants to know the\n",
            "truth behind the death of his parents br br he is\n",
            "pulled to make a last fateful journey to the\n",
            "summit of one of scotland's most inaccessible\n",
            "mountains can the truth be told or is it all in\n",
            "stories br br in this story about stories we\n",
            "revisit bloody battles poisoned lovers the\n",
            "folklore of old and the sometimes more treacherous\n",
            "folklore of accepted truth in doing so we each\n",
            "connect with angus as he lives the story of his\n",
            "own life br br seachd the inaccessible pinnacle is\n",
            "probably the most honest unpretentious and\n",
            "genuinely beautiful film of scotland ever made\n",
            "like angus i got slightly annoyed with the pretext\n",
            "of hanging stories on more stories but also like\n",
            "angus i forgave this once i saw the 'bigger\n",
            "picture ' forget the box office pastiche of\n",
            "braveheart and its like you might even forego the\n",
            "justly famous dramatisation of the wicker man to\n",
            "see a film that is true to scotland this one is\n",
            "probably unique if you maybe meditate on it deeply\n",
            "enough you might even re evaluate the power of\n",
            "storytelling and the age old question of whether\n",
            "there are some truths that cannot be told but only\n",
            "experienced\n"
          ]
        }
      ],
      "source": [
        "print_review(decode_review(x_train[3], word_index))"
      ]
    },
    {
      "cell_type": "code",
      "execution_count": null,
      "metadata": {
        "id": "JCE2t0L352wa"
      },
      "outputs": [],
      "source": [
        "x_train = keras.utils.pad_sequences(\n",
        "    x_train,\n",
        "    value=word_index[\"<PAD>\"],\n",
        "    padding=\"post\",\n",
        "    truncating=\"post\",\n",
        "    maxlen=256\n",
        ")\n",
        "\n",
        "x_test = keras.utils.pad_sequences(\n",
        "    x_test,\n",
        "    value=word_index[\"<PAD>\"],\n",
        "    padding=\"post\",\n",
        "    truncating=\"post\",\n",
        "    maxlen=256\n",
        ")"
      ]
    },
    {
      "cell_type": "code",
      "execution_count": null,
      "metadata": {
        "colab": {
          "base_uri": "https://localhost:8080/"
        },
        "id": "tK7_ZIUV52wa",
        "outputId": "4a968eb2-11c5-454b-ee9e-87a2f510ec35"
      },
      "outputs": [
        {
          "output_type": "stream",
          "name": "stdout",
          "text": [
            "<START> this film was just brilliant casting\n",
            "location scenery story direction everyone's really\n",
            "suited the part they played and you could just\n",
            "imagine being there robert redford's is an amazing\n",
            "actor and now the same being director norman's\n",
            "father came from the same scottish island as\n",
            "myself so i loved the fact there was a real\n",
            "connection with this film the witty remarks\n",
            "throughout the film were great it was just\n",
            "brilliant so much that i bought the film as soon\n",
            "as it was released for retail and would recommend\n",
            "it to everyone to watch and the fly fishing was\n",
            "amazing really cried at the end it was so sad and\n",
            "you know what they say if you cry at a film it\n",
            "must have been good and this definitely was also\n",
            "congratulations to the two little boy's that\n",
            "played the part's of norman and paul they were\n",
            "just brilliant children are often left out of the\n",
            "praising list i think because the stars that play\n",
            "them all grown up are such a big profile for the\n",
            "whole film but these children are amazing and\n",
            "should be praised for what they have done don't\n",
            "you think the whole story was so lovely because it\n",
            "was true and was someone's life after all that was\n",
            "shared with us all <PAD> <PAD> <PAD> <PAD> <PAD>\n",
            "<PAD> <PAD> <PAD> <PAD> <PAD> <PAD> <PAD> <PAD>\n",
            "<PAD> <PAD> <PAD> <PAD> <PAD> <PAD> <PAD> <PAD>\n",
            "<PAD> <PAD> <PAD> <PAD> <PAD> <PAD> <PAD> <PAD>\n",
            "<PAD> <PAD> <PAD> <PAD> <PAD> <PAD> <PAD> <PAD>\n",
            "<PAD>\n"
          ]
        }
      ],
      "source": [
        "print_review(decode_review(x_train[0], word_index))"
      ]
    },
    {
      "cell_type": "code",
      "execution_count": null,
      "metadata": {
        "colab": {
          "base_uri": "https://localhost:8080/"
        },
        "id": "2JrYbNqi52wa",
        "outputId": "20dea949-ef81-4d14-e77a-357f3d727ef5"
      },
      "outputs": [
        {
          "output_type": "execute_result",
          "data": {
            "text/plain": [
              "array([    1,    14,    22,    16,    43,   530,   973,  1622,  1385,\n",
              "          65,   458,  4468,    66,  3941,     4,   173,    36,   256,\n",
              "           5,    25,   100,    43,   838,   112,    50,   670, 22665,\n",
              "           9,    35,   480,   284,     5,   150,     4,   172,   112,\n",
              "         167, 21631,   336,   385,    39,     4,   172,  4536,  1111,\n",
              "          17,   546,    38,    13,   447,     4,   192,    50,    16,\n",
              "           6,   147,  2025,    19,    14,    22,     4,  1920,  4613,\n",
              "         469,     4,    22,    71,    87,    12,    16,    43,   530,\n",
              "          38,    76,    15,    13,  1247,     4,    22,    17,   515,\n",
              "          17,    12,    16,   626,    18, 19193,     5,    62,   386,\n",
              "          12,     8,   316,     8,   106,     5,     4,  2223,  5244,\n",
              "          16,   480,    66,  3785,    33,     4,   130,    12,    16,\n",
              "          38,   619,     5,    25,   124,    51,    36,   135,    48,\n",
              "          25,  1415,    33,     6,    22,    12,   215,    28,    77,\n",
              "          52,     5,    14,   407,    16,    82, 10311,     8,     4,\n",
              "         107,   117,  5952,    15,   256,     4, 31050,     7,  3766,\n",
              "           5,   723,    36,    71,    43,   530,   476,    26,   400,\n",
              "         317,    46,     7,     4, 12118,  1029,    13,   104,    88,\n",
              "           4,   381,    15,   297,    98,    32,  2071,    56,    26,\n",
              "         141,     6,   194,  7486,    18,     4,   226,    22,    21,\n",
              "         134,   476,    26,   480,     5,   144,    30,  5535,    18,\n",
              "          51,    36,    28,   224,    92,    25,   104,     4,   226,\n",
              "          65,    16,    38,  1334,    88,    12,    16,   283,     5,\n",
              "          16,  4472,   113,   103,    32,    15,    16,  5345,    19,\n",
              "         178,    32,     0,     0,     0,     0,     0,     0,     0,\n",
              "           0,     0,     0,     0,     0,     0,     0,     0,     0,\n",
              "           0,     0,     0,     0,     0,     0,     0,     0,     0,\n",
              "           0,     0,     0,     0,     0,     0,     0,     0,     0,\n",
              "           0,     0,     0,     0], dtype=int32)"
            ]
          },
          "metadata": {},
          "execution_count": 25
        }
      ],
      "source": [
        "x_train[0]"
      ]
    },
    {
      "cell_type": "code",
      "execution_count": null,
      "metadata": {
        "colab": {
          "base_uri": "https://localhost:8080/"
        },
        "id": "MOk-Xi-G52wb",
        "outputId": "e89997b1-b708-452a-a706-398473c7931d"
      },
      "outputs": [
        {
          "output_type": "stream",
          "name": "stdout",
          "text": [
            "<START> the scots excel at storytelling the\n",
            "traditional sort many years after the event i can\n",
            "still see in my mind's eye an elderly lady my\n",
            "friend's mother retelling the battle of culloden\n",
            "she makes the characters come alive her passion is\n",
            "that of an eye witness one to the events on the\n",
            "sodden heath a mile or so from where she lives br\n",
            "br of course it happened many years before she was\n",
            "born but you wouldn't guess from the way she tells\n",
            "it the same story is told in bars the length and\n",
            "breadth of scotland as i discussed it with a\n",
            "friend one night in mallaig a local cut in to give\n",
            "his version the discussion continued to closing\n",
            "time br br stories passed down like this become\n",
            "part of our being who doesn't remember the stories\n",
            "our parents told us when we were children they\n",
            "become our invisible world and as we grow older\n",
            "they maybe still serve as inspiration or as an\n",
            "emotional reservoir fact and fiction blend with\n",
            "aspiration role models warning stories archetypes\n",
            "magic and mystery br br my name is aonghas like my\n",
            "grandfather and his grandfather before him our\n",
            "protagonist introduces himself to us and also\n",
            "introduces the story that stretches back through\n",
            "generations it produces stories within stories\n",
            "stories that evoke the impenetrable wonder of\n",
            "scotland its rugged mountains shrouded in mists\n",
            "the stuff of legend yet seach'd is rooted in\n",
            "reality this is what gives it its special charm it\n",
            "has a rough beauty and\n"
          ]
        }
      ],
      "source": [
        "print_review(decode_review(x_train[3], word_index))"
      ]
    },
    {
      "cell_type": "code",
      "execution_count": null,
      "metadata": {
        "colab": {
          "base_uri": "https://localhost:8080/"
        },
        "id": "jX7XDCOx52wb",
        "outputId": "0de47fbd-286d-4301-9ed9-fa3bb9eac782"
      },
      "outputs": [
        {
          "output_type": "stream",
          "name": "stdout",
          "text": [
            "256\n",
            "256\n",
            "256\n",
            "256\n",
            "256\n"
          ]
        }
      ],
      "source": [
        "for review in x_train[:5]:\n",
        "    print(len(review))"
      ]
    },
    {
      "cell_type": "code",
      "execution_count": null,
      "metadata": {
        "colab": {
          "base_uri": "https://localhost:8080/"
        },
        "id": "Ek0nqHv752wb",
        "outputId": "574db18f-0d2d-4779-b902-701fa2407364"
      },
      "outputs": [
        {
          "output_type": "execute_result",
          "data": {
            "text/plain": [
              "(25000, 256)"
            ]
          },
          "metadata": {},
          "execution_count": 28
        }
      ],
      "source": [
        "x_train.shape"
      ]
    },
    {
      "cell_type": "markdown",
      "metadata": {
        "id": "8UGq92W452wb"
      },
      "source": [
        "## Definir modelo Keras"
      ]
    },
    {
      "cell_type": "markdown",
      "metadata": {
        "id": "h8jGtwpj52wb"
      },
      "source": [
        "### Embedding"
      ]
    },
    {
      "cell_type": "markdown",
      "metadata": {
        "id": "8dL_X10A52wb"
      },
      "source": [
        "https://www.tensorflow.org/api_docs/python/tf/keras/layers/Embedding"
      ]
    },
    {
      "cell_type": "markdown",
      "metadata": {
        "id": "HdWjMg1k52wb"
      },
      "source": [
        "O Embedding no Keras funciona como um tradutor que transforma números, cada um representando uma palavra, em vetores de números reais em um espaço multidimensional. Cada vetor representa uma palavra de maneira única, capturando nuances de seu significado e relação com outras palavras. Por exemplo, na representação vetorial, palavras com significados semelhantes, como \"feliz\" e \"alegre\", ficarão próximas no espaço vetorial. Esses vetores são aprendidos durante o treinamento do modelo, permitindo que a máquina compreenda e processe textos de maneira mais eficaz. Isso é fundamental em tarefas como análise de sentimentos ou tradução automática, onde a compreensão do contexto e das nuances das palavras é crucial."
      ]
    },
    {
      "cell_type": "markdown",
      "metadata": {
        "id": "5p9YNRIH52wb"
      },
      "source": [
        "![Screenshot 2023-12-21 143449.png](attachment:5da53b07-30e6-4280-aa90-a045efdd64c8.png)"
      ]
    },
    {
      "cell_type": "markdown",
      "metadata": {
        "id": "D9xOmh-q52wb"
      },
      "source": [
        "### RNNs"
      ]
    },
    {
      "cell_type": "markdown",
      "metadata": {
        "id": "08pDr7qk52wc"
      },
      "source": [
        "Uma Rede Neural Recorrente (RNN) é um tipo de rede neural projetada para processar sequências, como dados de séries temporais ou texto. RNNs são únicas porque mantêm uma memória interna de entradas anteriores, permitindo-lhes capturar informações sobre a história da sequência. No entanto, RNNs padrão frequentemente têm dificuldade em aprender dependências de longo alcance devido ao problema do gradiente desaparecendo."
      ]
    },
    {
      "cell_type": "markdown",
      "metadata": {
        "id": "4ugLLYGv52wc"
      },
      "source": [
        "![RNN-rolled.png](attachment:d50fec3c-e357-4e4a-9b4c-3de120ab84f4.png)"
      ]
    },
    {
      "cell_type": "markdown",
      "metadata": {
        "id": "dmZtNNTH52wc"
      },
      "source": [
        "LSTM, ou Memória de Longo e Curto Prazo, é um tipo especial de RNN que aborda essa questão. Ela inclui mecanismos chamados portões que regulam o fluxo de informações, tornando-a capaz de lembrar e utilizar informações ao longo de sequências muito mais longas. Isso torna as LSTMs mais eficazes para tarefas onde entender o contexto estendido é crucial."
      ]
    },
    {
      "cell_type": "markdown",
      "metadata": {
        "id": "hIop2GlL52wc"
      },
      "source": [
        "![Fully_connected_Recurrent_Neural_Network.webp](attachment:1be8dc9b-e2bf-44cf-9275-bd34354ea5e7.webp)"
      ]
    },
    {
      "cell_type": "markdown",
      "metadata": {
        "id": "WpD8bzjk52wc"
      },
      "source": [
        "https://www.tensorflow.org/api_docs/python/tf/keras/layers/LSTM"
      ]
    },
    {
      "cell_type": "code",
      "execution_count": null,
      "metadata": {
        "colab": {
          "base_uri": "https://localhost:8080/"
        },
        "id": "cr8hzyfP52wc",
        "outputId": "8ad38823-70d5-4077-d7ff-1bab1e8f2979"
      },
      "outputs": [
        {
          "output_type": "stream",
          "name": "stdout",
          "text": [
            "Model: \"sequential\"\n",
            "_________________________________________________________________\n",
            " Layer (type)                Output Shape              Param #   \n",
            "=================================================================\n",
            " embedding (Embedding)       (None, 256, 64)           5669632   \n",
            "                                                                 \n",
            " lstm (LSTM)                 (None, 64)                33024     \n",
            "                                                                 \n",
            " dense (Dense)               (None, 2)                 130       \n",
            "                                                                 \n",
            "=================================================================\n",
            "Total params: 5702786 (21.75 MB)\n",
            "Trainable params: 5702786 (21.75 MB)\n",
            "Non-trainable params: 0 (0.00 Byte)\n",
            "_________________________________________________________________\n"
          ]
        }
      ],
      "source": [
        "model = keras.Sequential()\n",
        "\n",
        "model.add(keras.layers.InputLayer(input_shape=(256,)))\n",
        "\n",
        "model.add(keras.layers.Embedding(len(word_index), 64))\n",
        "\n",
        "model.add(keras.layers.LSTM(64, dropout=0.5))\n",
        "\n",
        "model.add(keras.layers.Dense(2, activation=\"sigmoid\"))\n",
        "\n",
        "model.summary()"
      ]
    },
    {
      "cell_type": "markdown",
      "metadata": {
        "id": "xDphqHbm52wc"
      },
      "source": [
        "## Compilar modelo Keras"
      ]
    },
    {
      "cell_type": "code",
      "execution_count": null,
      "metadata": {
        "id": "EB1DtllH52wc"
      },
      "outputs": [],
      "source": [
        "optimizer = keras.optimizers.Adam(1E-4)\n",
        "loss = keras.losses.SparseCategoricalCrossentropy()\n",
        "metric = keras.metrics.SparseCategoricalAccuracy()\n",
        "\n",
        "model.compile(optimizer=optimizer, loss=loss, metrics=[metric])"
      ]
    },
    {
      "cell_type": "markdown",
      "metadata": {
        "id": "Dh1pzDCW52wc"
      },
      "source": [
        "## Fit modelo Keras"
      ]
    },
    {
      "cell_type": "code",
      "execution_count": null,
      "metadata": {
        "colab": {
          "base_uri": "https://localhost:8080/"
        },
        "id": "vvGy6Qyj52wc",
        "outputId": "a8dede79-74fa-4f61-b99e-9e747baa8922"
      },
      "outputs": [
        {
          "output_type": "stream",
          "name": "stdout",
          "text": [
            "Epoch 1/20\n",
            "40/40 [==============================] - 59s 1s/step - loss: 0.6930 - sparse_categorical_accuracy: 0.5089 - val_loss: 0.6930 - val_sparse_categorical_accuracy: 0.5046\n",
            "Epoch 2/20\n",
            "40/40 [==============================] - 57s 1s/step - loss: 0.6929 - sparse_categorical_accuracy: 0.5119 - val_loss: 0.6929 - val_sparse_categorical_accuracy: 0.5070\n",
            "Epoch 3/20\n",
            "40/40 [==============================] - 57s 1s/step - loss: 0.6926 - sparse_categorical_accuracy: 0.5085 - val_loss: 0.6929 - val_sparse_categorical_accuracy: 0.5056\n",
            "Epoch 4/20\n",
            "40/40 [==============================] - 56s 1s/step - loss: 0.6924 - sparse_categorical_accuracy: 0.5196 - val_loss: 0.6928 - val_sparse_categorical_accuracy: 0.5052\n",
            "Epoch 5/20\n",
            "40/40 [==============================] - 64s 2s/step - loss: 0.6919 - sparse_categorical_accuracy: 0.5203 - val_loss: 0.6927 - val_sparse_categorical_accuracy: 0.4950\n",
            "Epoch 6/20\n",
            "40/40 [==============================] - 56s 1s/step - loss: 0.6912 - sparse_categorical_accuracy: 0.5135 - val_loss: 0.6923 - val_sparse_categorical_accuracy: 0.5094\n",
            "Epoch 7/20\n",
            "40/40 [==============================] - 57s 1s/step - loss: 0.6902 - sparse_categorical_accuracy: 0.5167 - val_loss: 0.6915 - val_sparse_categorical_accuracy: 0.5114\n",
            "Epoch 8/20\n",
            "40/40 [==============================] - 56s 1s/step - loss: 0.6805 - sparse_categorical_accuracy: 0.5541 - val_loss: 0.6751 - val_sparse_categorical_accuracy: 0.5762\n",
            "Epoch 9/20\n",
            "40/40 [==============================] - 62s 2s/step - loss: 0.5930 - sparse_categorical_accuracy: 0.6982 - val_loss: 0.5226 - val_sparse_categorical_accuracy: 0.7880\n",
            "Epoch 10/20\n",
            "40/40 [==============================] - 63s 2s/step - loss: 0.4739 - sparse_categorical_accuracy: 0.8153 - val_loss: 0.4393 - val_sparse_categorical_accuracy: 0.8378\n",
            "Epoch 11/20\n",
            "40/40 [==============================] - 68s 2s/step - loss: 0.3923 - sparse_categorical_accuracy: 0.8579 - val_loss: 0.4005 - val_sparse_categorical_accuracy: 0.8512\n",
            "Epoch 12/20\n",
            "40/40 [==============================] - 63s 2s/step - loss: 0.3408 - sparse_categorical_accuracy: 0.8818 - val_loss: 0.3612 - val_sparse_categorical_accuracy: 0.8658\n",
            "Epoch 13/20\n",
            "40/40 [==============================] - 56s 1s/step - loss: 0.2979 - sparse_categorical_accuracy: 0.8967 - val_loss: 0.3460 - val_sparse_categorical_accuracy: 0.8662\n",
            "Epoch 14/20\n",
            "40/40 [==============================] - 58s 1s/step - loss: 0.2540 - sparse_categorical_accuracy: 0.9092 - val_loss: 0.3149 - val_sparse_categorical_accuracy: 0.8734\n",
            "Epoch 15/20\n",
            "40/40 [==============================] - 57s 1s/step - loss: 0.2165 - sparse_categorical_accuracy: 0.9246 - val_loss: 0.3139 - val_sparse_categorical_accuracy: 0.8740\n",
            "Epoch 16/20\n",
            "40/40 [==============================] - 62s 2s/step - loss: 0.1892 - sparse_categorical_accuracy: 0.9312 - val_loss: 0.3204 - val_sparse_categorical_accuracy: 0.8782\n",
            "Epoch 17/20\n",
            "40/40 [==============================] - 63s 2s/step - loss: 0.1775 - sparse_categorical_accuracy: 0.9383 - val_loss: 0.3051 - val_sparse_categorical_accuracy: 0.8800\n",
            "Epoch 18/20\n",
            "40/40 [==============================] - 57s 1s/step - loss: 0.1592 - sparse_categorical_accuracy: 0.9452 - val_loss: 0.3248 - val_sparse_categorical_accuracy: 0.8814\n",
            "Epoch 19/20\n",
            "40/40 [==============================] - 57s 1s/step - loss: 0.1451 - sparse_categorical_accuracy: 0.9517 - val_loss: 0.3512 - val_sparse_categorical_accuracy: 0.8778\n",
            "Epoch 20/20\n",
            "40/40 [==============================] - 57s 1s/step - loss: 0.1351 - sparse_categorical_accuracy: 0.9561 - val_loss: 0.3518 - val_sparse_categorical_accuracy: 0.8778\n"
          ]
        }
      ],
      "source": [
        "history = model.fit(\n",
        "    x_train,\n",
        "    y_train,\n",
        "    epochs=20,\n",
        "    batch_size=512,\n",
        "    validation_split=0.2,\n",
        "    verbose=1,\n",
        ")"
      ]
    },
    {
      "cell_type": "code",
      "execution_count": null,
      "metadata": {
        "id": "ptVMAtDH52wc"
      },
      "outputs": [],
      "source": []
    },
    {
      "cell_type": "markdown",
      "metadata": {
        "id": "Usih5Z4P52wd"
      },
      "source": [
        "## Evaluate modelo Keras"
      ]
    },
    {
      "cell_type": "code",
      "execution_count": null,
      "metadata": {
        "colab": {
          "base_uri": "https://localhost:8080/"
        },
        "id": "DqmZL9vP52wd",
        "outputId": "ca7d90a6-ab5e-4311-fc31-501da2b18619"
      },
      "outputs": [
        {
          "output_type": "stream",
          "name": "stdout",
          "text": [
            "782/782 [==============================] - 32s 41ms/step - loss: 0.3936 - sparse_categorical_accuracy: 0.8557\n"
          ]
        },
        {
          "output_type": "execute_result",
          "data": {
            "text/plain": [
              "[0.39362648129463196, 0.8557199835777283]"
            ]
          },
          "metadata": {},
          "execution_count": 32
        }
      ],
      "source": [
        "model.evaluate(x_test, y_test)"
      ]
    },
    {
      "cell_type": "markdown",
      "metadata": {
        "id": "p41xD5e852wd"
      },
      "source": [
        "## Predict modelo Keras"
      ]
    },
    {
      "cell_type": "code",
      "execution_count": null,
      "metadata": {
        "colab": {
          "base_uri": "https://localhost:8080/",
          "height": 430
        },
        "id": "9s1bwrZ152wd",
        "outputId": "24fd786f-85f3-4c43-9d04-956925c2d128"
      },
      "outputs": [
        {
          "output_type": "display_data",
          "data": {
            "text/plain": [
              "<Figure size 640x480 with 1 Axes>"
            ],
            "image/png": "[encoded data removed]"
          },
          "metadata": {}
        }
      ],
      "source": [
        "plt.plot(history.history[\"loss\"], label=\"loss\")\n",
        "plt.plot(history.history[\"val_loss\"], label=\"val_loss\")\n",
        "plt.legend()\n",
        "plt.show()"
      ]
    },
    {
      "cell_type": "code",
      "execution_count": null,
      "metadata": {
        "colab": {
          "base_uri": "https://localhost:8080/",
          "height": 430
        },
        "id": "rtGbwY3D52wd",
        "outputId": "21b25e09-b5f8-419e-aaa2-1a0e4f5b69a1"
      },
      "outputs": [
        {
          "output_type": "display_data",
          "data": {
            "text/plain": [
              "<Figure size 640x480 with 1 Axes>"
            ],
            "image/png": "[encoded data removed]"
          },
          "metadata": {}
        }
      ],
      "source": [
        "plt.plot(history.history[\"sparse_categorical_accuracy\"], label=\"accuracy\")\n",
        "plt.plot(history.history[\"val_sparse_categorical_accuracy\"], label=\"val_accuracy\")\n",
        "plt.legend()\n",
        "plt.show()"
      ]
    },
    {
      "cell_type": "code",
      "execution_count": null,
      "metadata": {
        "colab": {
          "base_uri": "https://localhost:8080/"
        },
        "id": "QrqeooOg52wd",
        "outputId": "f1672e87-7bcb-4d54-8e00-9dfccce9aeef"
      },
      "outputs": [
        {
          "output_type": "stream",
          "name": "stdout",
          "text": [
            "Label:  0\n",
            "Prediction (sigmoid):  [0.89036995 0.06253275]\n",
            "Prediction:  0\n",
            "\n",
            "Label:  1\n",
            "Prediction (sigmoid):  [0.09817832 0.9312621 ]\n",
            "Prediction:  1\n",
            "\n",
            "Label:  1\n",
            "Prediction (sigmoid):  [0.09572132 0.9338862 ]\n",
            "Prediction:  1\n",
            "\n",
            "Label:  0\n",
            "Prediction (sigmoid):  [0.6924939  0.27435654]\n",
            "Prediction:  0\n",
            "\n",
            "Label:  1\n",
            "Prediction (sigmoid):  [0.08513365 0.94198585]\n",
            "Prediction:  1\n",
            "\n",
            "Label:  1\n",
            "Prediction (sigmoid):  [0.36414087 0.6646695 ]\n",
            "Prediction:  1\n",
            "\n",
            "Label:  1\n",
            "Prediction (sigmoid):  [0.41798568 0.5994953 ]\n",
            "Prediction:  1\n",
            "\n",
            "Label:  0\n",
            "Prediction (sigmoid):  [0.88111377 0.07072982]\n",
            "Prediction:  0\n",
            "\n",
            "Label:  0\n",
            "Prediction (sigmoid):  [0.08547573 0.9417077 ]\n",
            "Prediction:  1\n",
            "\n",
            "Label:  1\n",
            "Prediction (sigmoid):  [0.59635144 0.3806084 ]\n",
            "Prediction:  0\n",
            "\n"
          ]
        }
      ],
      "source": [
        "for i in range(10):\n",
        "    # print_review(decode_review(x_test[i], word_index), width=80)\n",
        "    print(\"Label: \", y_test[i])\n",
        "    print(\"Prediction (sigmoid): \", model.predict(np.expand_dims(x_test[i], axis=0), verbose=0).flatten())\n",
        "    print(\"Prediction: \", np.argmax(model.predict(np.expand_dims(x_test[i], axis=0), verbose=0)))\n",
        "    print()"
      ]
    },
    {
      "cell_type": "code",
      "execution_count": null,
      "metadata": {
        "colab": {
          "base_uri": "https://localhost:8080/"
        },
        "id": "TToQ_8cl52wd",
        "outputId": "c414bb32-9679-4575-887a-178fa5210c9c"
      },
      "outputs": [
        {
          "output_type": "stream",
          "name": "stdout",
          "text": [
            "<START> i'm absolutely disgusted this movie isn't being sold all who love this\n",
            "movie should email disney and increase the demand for it they'd eventually have\n",
            "to sell it then i'd buy copies for everybody i know everything and everybody in\n",
            "this movie did a good job and i haven't figured out why disney hasn't put this\n",
            "movie on dvd or on vhs in rental stores at least i haven't seen any copies this\n",
            "is a wicked good movie and should be seen by all the kids in the new generation\n",
            "don't get to see it and i think they should it should at least be put back on\n",
            "the channel this movie doesn't deserve a cheap download it deserves the real\n",
            "thing i'm them now this movie will be on dvd <PAD> <PAD> <PAD> <PAD> <PAD> <PAD>\n",
            "<PAD> <PAD> <PAD> <PAD> <PAD> <PAD> <PAD> <PAD> <PAD> <PAD> <PAD> <PAD> <PAD>\n",
            "<PAD> <PAD> <PAD> <PAD> <PAD> <PAD> <PAD> <PAD> <PAD> <PAD> <PAD> <PAD> <PAD>\n",
            "<PAD> <PAD> <PAD> <PAD> <PAD> <PAD> <PAD> <PAD> <PAD> <PAD> <PAD> <PAD> <PAD>\n",
            "<PAD> <PAD> <PAD> <PAD> <PAD> <PAD> <PAD> <PAD> <PAD> <PAD> <PAD> <PAD> <PAD>\n",
            "<PAD> <PAD> <PAD> <PAD> <PAD> <PAD> <PAD> <PAD> <PAD> <PAD> <PAD> <PAD> <PAD>\n",
            "<PAD> <PAD> <PAD> <PAD> <PAD> <PAD> <PAD> <PAD> <PAD> <PAD> <PAD> <PAD> <PAD>\n",
            "<PAD> <PAD> <PAD> <PAD> <PAD> <PAD> <PAD> <PAD> <PAD> <PAD> <PAD> <PAD> <PAD>\n",
            "<PAD> <PAD> <PAD> <PAD> <PAD> <PAD> <PAD> <PAD> <PAD> <PAD> <PAD> <PAD> <PAD>\n",
            "<PAD> <PAD> <PAD> <PAD> <PAD> <PAD> <PAD> <PAD> <PAD> <PAD> <PAD> <PAD> <PAD>\n",
            "<PAD>\n"
          ]
        }
      ],
      "source": [
        "print_review(decode_review(x_test[5], word_index), width=80)"
      ]
    },
    {
      "cell_type": "code",
      "execution_count": null,
      "metadata": {
        "id": "S1VGDKdK52wd"
      },
      "outputs": [],
      "source": []
    },
    {
      "cell_type": "code",
      "execution_count": null,
      "metadata": {
        "id": "UEBm1bgH52wd"
      },
      "outputs": [],
      "source": [
        "review_good = \"The movie was great! The animation and the graphics were out of this world. I would recommend this movie.\"\n",
        "review_bad = \"The movie was terrible. The animation was poor and the graphics were awful. I would not recommend this movie.\""
      ]
    },
    {
      "cell_type": "code",
      "execution_count": null,
      "metadata": {
        "colab": {
          "base_uri": "https://localhost:8080/"
        },
        "id": "iTx3oyg_52wd",
        "outputId": "a9921d0d-4663-4b05-f31a-5a22da0d6c33"
      },
      "outputs": [
        {
          "output_type": "stream",
          "name": "stdout",
          "text": [
            "The movie was great! The animation and the\n",
            "graphics were out of this world. I would recommend\n",
            "this movie.\n"
          ]
        }
      ],
      "source": [
        "print_review(review_good)"
      ]
    },
    {
      "cell_type": "code",
      "execution_count": null,
      "metadata": {
        "colab": {
          "base_uri": "https://localhost:8080/"
        },
        "id": "ph4KpX2o52we",
        "outputId": "d825393f-545b-4ce0-bfee-1913a75d49a0"
      },
      "outputs": [
        {
          "output_type": "stream",
          "name": "stdout",
          "text": [
            "The movie was terrible. The animation was poor and\n",
            "the graphics were awful. I would not recommend\n",
            "this movie.\n"
          ]
        }
      ],
      "source": [
        "print_review(review_bad)"
      ]
    },
    {
      "cell_type": "code",
      "execution_count": null,
      "metadata": {
        "id": "dNuYBgCp52we"
      },
      "outputs": [],
      "source": []
    },
    {
      "cell_type": "code",
      "execution_count": null,
      "metadata": {
        "id": "nilF0vJp52we"
      },
      "outputs": [],
      "source": []
    },
    {
      "cell_type": "code",
      "execution_count": null,
      "metadata": {
        "id": "lPev7L5I52we"
      },
      "outputs": [],
      "source": [
        "def encode_review(text, index):\n",
        "    import string\n",
        "    text = text.translate(str.maketrans(\"\", \"\", string.punctuation)).lower()\n",
        "    return [index.get(word, 2) for word in text.split(\" \")]"
      ]
    },
    {
      "cell_type": "code",
      "execution_count": null,
      "metadata": {
        "colab": {
          "base_uri": "https://localhost:8080/"
        },
        "id": "-lgkP8n952we",
        "outputId": "03cf5bd3-3a6d-41bd-cfed-e2b0957a8fc5"
      },
      "outputs": [
        {
          "output_type": "execute_result",
          "data": {
            "text/plain": [
              "[4, 20, 16, 87, 4, 748, 5, 4, 2876, 71, 46, 7, 14, 182, 13, 62, 386, 14, 20]"
            ]
          },
          "metadata": {},
          "execution_count": 57
        }
      ],
      "source": [
        "encode_review(review_good, word_index)"
      ]
    },
    {
      "cell_type": "code",
      "execution_count": null,
      "metadata": {
        "colab": {
          "base_uri": "https://localhost:8080/",
          "height": 35
        },
        "id": "d_BCNOVN52we",
        "outputId": "0d562cc2-4d52-454b-bd2f-a7e82dc1b513"
      },
      "outputs": [
        {
          "output_type": "execute_result",
          "data": {
            "text/plain": [
              "'the movie was great the animation and the graphics were out of this world i would recommend this movie'"
            ],
            "application/vnd.google.colaboratory.intrinsic+json": {
              "type": "string"
            }
          },
          "metadata": {},
          "execution_count": 58
        }
      ],
      "source": [
        "decode_review(encode_review(review_good, word_index), word_index)"
      ]
    },
    {
      "cell_type": "code",
      "execution_count": null,
      "metadata": {
        "id": "u-EGQATC52we"
      },
      "outputs": [],
      "source": [
        "review_good = keras.utils.pad_sequences(\n",
        "    [encode_review(review_good, word_index)],\n",
        "    value=word_index[\"<PAD>\"],\n",
        "    padding=\"post\",\n",
        "    truncating=\"post\",\n",
        "    maxlen=256\n",
        ")\n",
        "\n",
        "review_bad = keras.utils.pad_sequences(\n",
        "    [encode_review(review_bad, word_index)],\n",
        "    value=word_index[\"<PAD>\"],\n",
        "    padding=\"post\",\n",
        "    truncating=\"post\",\n",
        "    maxlen=256\n",
        ")"
      ]
    },
    {
      "cell_type": "code",
      "execution_count": null,
      "metadata": {
        "colab": {
          "base_uri": "https://localhost:8080/"
        },
        "id": "TPXWsKP052we",
        "outputId": "f11f2f19-4763-495a-b571-6a9a37af7e40"
      },
      "outputs": [
        {
          "output_type": "execute_result",
          "data": {
            "text/plain": [
              "array([[   4,   20,   16,   87,    4,  748,    5,    4, 2876,   71,   46,\n",
              "           7,   14,  182,   13,   62,  386,   14,   20,    0,    0,    0,\n",
              "           0,    0,    0,    0,    0,    0,    0,    0,    0,    0,    0,\n",
              "           0,    0,    0,    0,    0,    0,    0,    0,    0,    0,    0,\n",
              "           0,    0,    0,    0,    0,    0,    0,    0,    0,    0,    0,\n",
              "           0,    0,    0,    0,    0,    0,    0,    0,    0,    0,    0,\n",
              "           0,    0,    0,    0,    0,    0,    0,    0,    0,    0,    0,\n",
              "           0,    0,    0,    0,    0,    0,    0,    0,    0,    0,    0,\n",
              "           0,    0,    0,    0,    0,    0,    0,    0,    0,    0,    0,\n",
              "           0,    0,    0,    0,    0,    0,    0,    0,    0,    0,    0,\n",
              "           0,    0,    0,    0,    0,    0,    0,    0,    0,    0,    0,\n",
              "           0,    0,    0,    0,    0,    0,    0,    0,    0,    0,    0,\n",
              "           0,    0,    0,    0,    0,    0,    0,    0,    0,    0,    0,\n",
              "           0,    0,    0,    0,    0,    0,    0,    0,    0,    0,    0,\n",
              "           0,    0,    0,    0,    0,    0,    0,    0,    0,    0,    0,\n",
              "           0,    0,    0,    0,    0,    0,    0,    0,    0,    0,    0,\n",
              "           0,    0,    0,    0,    0,    0,    0,    0,    0,    0,    0,\n",
              "           0,    0,    0,    0,    0,    0,    0,    0,    0,    0,    0,\n",
              "           0,    0,    0,    0,    0,    0,    0,    0,    0,    0,    0,\n",
              "           0,    0,    0,    0,    0,    0,    0,    0,    0,    0,    0,\n",
              "           0,    0,    0,    0,    0,    0,    0,    0,    0,    0,    0,\n",
              "           0,    0,    0,    0,    0,    0,    0,    0,    0,    0,    0,\n",
              "           0,    0,    0,    0,    0,    0,    0,    0,    0,    0,    0,\n",
              "           0,    0,    0]], dtype=int32)"
            ]
          },
          "metadata": {},
          "execution_count": 60
        }
      ],
      "source": [
        "review_good"
      ]
    },
    {
      "cell_type": "code",
      "execution_count": null,
      "metadata": {
        "colab": {
          "base_uri": "https://localhost:8080/"
        },
        "id": "KC77NPXF52we",
        "outputId": "d05a0945-a7ce-4285-eecc-71a7caedabad"
      },
      "outputs": [
        {
          "output_type": "execute_result",
          "data": {
            "text/plain": [
              "array([[   4,   20,   16,  394,    4,  748,   16,  338,    5,    4, 2876,\n",
              "          71,  373,   13,   62,   24,  386,   14,   20,    0,    0,    0,\n",
              "           0,    0,    0,    0,    0,    0,    0,    0,    0,    0,    0,\n",
              "           0,    0,    0,    0,    0,    0,    0,    0,    0,    0,    0,\n",
              "           0,    0,    0,    0,    0,    0,    0,    0,    0,    0,    0,\n",
              "           0,    0,    0,    0,    0,    0,    0,    0,    0,    0,    0,\n",
              "           0,    0,    0,    0,    0,    0,    0,    0,    0,    0,    0,\n",
              "           0,    0,    0,    0,    0,    0,    0,    0,    0,    0,    0,\n",
              "           0,    0,    0,    0,    0,    0,    0,    0,    0,    0,    0,\n",
              "           0,    0,    0,    0,    0,    0,    0,    0,    0,    0,    0,\n",
              "           0,    0,    0,    0,    0,    0,    0,    0,    0,    0,    0,\n",
              "           0,    0,    0,    0,    0,    0,    0,    0,    0,    0,    0,\n",
              "           0,    0,    0,    0,    0,    0,    0,    0,    0,    0,    0,\n",
              "           0,    0,    0,    0,    0,    0,    0,    0,    0,    0,    0,\n",
              "           0,    0,    0,    0,    0,    0,    0,    0,    0,    0,    0,\n",
              "           0,    0,    0,    0,    0,    0,    0,    0,    0,    0,    0,\n",
              "           0,    0,    0,    0,    0,    0,    0,    0,    0,    0,    0,\n",
              "           0,    0,    0,    0,    0,    0,    0,    0,    0,    0,    0,\n",
              "           0,    0,    0,    0,    0,    0,    0,    0,    0,    0,    0,\n",
              "           0,    0,    0,    0,    0,    0,    0,    0,    0,    0,    0,\n",
              "           0,    0,    0,    0,    0,    0,    0,    0,    0,    0,    0,\n",
              "           0,    0,    0,    0,    0,    0,    0,    0,    0,    0,    0,\n",
              "           0,    0,    0,    0,    0,    0,    0,    0,    0,    0,    0,\n",
              "           0,    0,    0]], dtype=int32)"
            ]
          },
          "metadata": {},
          "execution_count": 45
        }
      ],
      "source": [
        "review_bad"
      ]
    },
    {
      "cell_type": "code",
      "execution_count": null,
      "metadata": {
        "colab": {
          "base_uri": "https://localhost:8080/"
        },
        "id": "7XcVPgVC52wf",
        "outputId": "3f97a148-6c24-4efc-c39a-b5b60b167862"
      },
      "outputs": [
        {
          "output_type": "stream",
          "name": "stdout",
          "text": [
            "1/1 [==============================] - 0s 33ms/step\n"
          ]
        },
        {
          "output_type": "execute_result",
          "data": {
            "text/plain": [
              "array([[0.09138373, 0.93686765]], dtype=float32)"
            ]
          },
          "metadata": {},
          "execution_count": 46
        }
      ],
      "source": [
        "model.predict(review_good)"
      ]
    },
    {
      "cell_type": "code",
      "execution_count": null,
      "metadata": {
        "colab": {
          "base_uri": "https://localhost:8080/"
        },
        "id": "VhQbWTEy52wf",
        "outputId": "6517a8d1-054a-4a18-a5dc-af6c831b9673"
      },
      "outputs": [
        {
          "output_type": "stream",
          "name": "stdout",
          "text": [
            "1/1 [==============================] - 0s 36ms/step\n"
          ]
        },
        {
          "output_type": "execute_result",
          "data": {
            "text/plain": [
              "array([[0.8915352 , 0.06151877]], dtype=float32)"
            ]
          },
          "metadata": {},
          "execution_count": 47
        }
      ],
      "source": [
        "model.predict(review_bad)"
      ]
    }
  ],
  "metadata": {
    "kernelspec": {
      "display_name": "Python 3 (ipykernel)",
      "language": "python",
      "name": "python3"
    },
    "language_info": {
      "codemirror_mode": {
        "name": "ipython",
        "version": 3
      },
      "file_extension": ".py",
      "mimetype": "text/x-python",
      "name": "python",
      "nbconvert_exporter": "python",
      "pygments_lexer": "ipython3",
      "version": "3.8.10"
    },
    "colab": {
      "provenance": [],
      "include_colab_link": true
    }
  },
  "nbformat": 4,
  "nbformat_minor": 0
}